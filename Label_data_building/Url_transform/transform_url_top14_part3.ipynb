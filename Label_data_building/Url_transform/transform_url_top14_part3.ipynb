{
 "cells": [
  {
   "cell_type": "code",
   "execution_count": 2,
   "source": [
    "import os\r\n",
    "base='D:\\WWF_Det\\WWF_Data\\Raw_Data/rest-all/'\r\n",
    "cp_base=base+'-novideo/'\r\n",
    "os.system('cp -R '+base +' '+cp_base)\r\n",
    "folder_list=os.listdir(cp_base)\r\n",
    "for i in folder_list:\r\n",
    "    video_folder=cp_base+i+'/videos/'\r\n",
    "    os.system('rm -rf '+video_folder)"
   ],
   "outputs": [],
   "metadata": {}
  },
  {
   "cell_type": "code",
   "execution_count": 1,
   "source": [
    "# -*- coding: UTF-8 -*-\r\n",
    "import os \r\n",
    "import pandas as pd\r\n",
    "import numpy as np \r\n",
    "\r\n"
   ],
   "outputs": [],
   "metadata": {
    "ExecuteTime": {
     "end_time": "2021-06-08T11:52:51.951026Z",
     "start_time": "2021-06-08T11:52:51.944016Z"
    }
   }
  },
  {
   "cell_type": "code",
   "execution_count": 8,
   "source": [
    "df=pd.read_csv('D:/WWF_Det/WWF_Det/Label_data_building/Url_transform/Raw_csv/rest-part1.csv')\r\n",
    "df=df.drop(['异常信息','数据集ID','数据集名称'], axis=1)\r\n",
    "df=df.reset_index().drop(['index'],axis=1)\r\n",
    "df_store=pd.DataFrame(columns=['id','tag','Path','url','video_path','video_url'])\r\n",
    "for index, row in df.iterrows():\r\n",
    "    eng_class=['baichunlu','chihu','zanghu','maoniu','ma','mashe','yang','yanyang','person','xuebao','malu','lanmaji','gaoyuanshanchun','gaoyuantu', \\\r\n",
    "        'lang','pao','shidiao','sheli','lv','chai','hanta','zongxiong','huangmomao',\r\n",
    "        'anfuxueji','banchishanchun','banweizhenji','chihu+shidiao','danfuxueji','gaoyuanxuetu','gou','hongcuiya','hongsun','hongzuishanya','hongweiqu','huangyou','huwujiu',\r\n",
    "        'kuang','laoshu','maque','niaolei','paolu','shanque','shiji','shitu','shu','shutu','wuya','xiangyou','xique','xuege','xueji','xuezhi','you',\r\n",
    "        'zongbeidong'\r\n",
    "        ]\r\n",
    "    chi_class=['白唇鹿','赤狐','藏狐','牦牛','马','马麝','羊','岩羊','人','雪豹','马鹿','蓝马鸡','高原山鹑','高原兔', \\\r\n",
    "        '狼','狍','石貂','猞猁','藏野驴','豺','旱獭','棕熊','荒漠猫', \r\n",
    "        '暗腹雪鸡','斑翅山鹑','斑尾榛鸡','赤狐+石貂','淡腹雪鸡','高原雪兔','狗','红嘴山鸦','红隼','红嘴山鸦','红尾雀','黄鼬','胡兀鹫','鵟','老鼠','麻雀','鸟类','狍鹿',\r\n",
    "        '山雀','石鸡','石兔','鼠','鼠兔','乌鸦','香鼬','喜鹊','雪鸽','雪鸡','血雉','鼬','棕背鸫']\r\n",
    "    file_dir=row['文件路径'].replace('top14-p8-novideo','top14-p8',1)\r\n",
    "    cate_name=row['文件路径'].split('/')[1]\r\n",
    "    video_dir=file_dir.replace('frames','videos',1)\r\n",
    "    file_path=file_dir+row['文件名称']\r\n",
    "    houzhui_list=['.MOV','.AVI','.MP4']\r\n",
    "    for i in houzhui_list:\r\n",
    "        check_path='D:/WWF_Det/WWF_Data/Raw_Data/'+video_dir+row['文件名称'][:5]+i\r\n",
    "        #print(check_path)\r\n",
    "        if os.path.exists(check_path):\r\n",
    "            video_path=check_path.replace('D:/WWF_Det/WWF_Data/Raw_Data/','',1)\r\n",
    "    for a,b in zip(eng_class,chi_class):\r\n",
    "        if cate_name==a: cate_name=b\r\n",
    "    df_store.loc[index,'tag']=cate_name\r\n",
    "    df_store.loc[index,'Path']=file_path\r\n",
    "    df_store.loc[index,'video_path']=video_path\r\n",
    "    df_store.loc[index,'url']=row['文件地址']\r\n",
    "\r\n",
    "df_store=df_store.sort_values(by=\"Path\" , ascending=True)\r\n",
    "df_store['id']=np.arange(1, len(df_store)+1)\r\n",
    "df_store['video_url']='None'\r\n",
    "df_store.to_csv(r'D:\\WWF_Det\\WWF_Det\\Label_data_building\\Url_transform\\Post_csv\\rest-part1.csv',index=False,encoding=\"utf_8_sig\")\r\n"
   ],
   "outputs": [
    {
     "output_type": "error",
     "ename": "SyntaxError",
     "evalue": "invalid syntax (<ipython-input-8-c1fa0ebf2d45>, line 8)",
     "traceback": [
      "\u001b[1;36m  File \u001b[1;32m\"<ipython-input-8-c1fa0ebf2d45>\"\u001b[1;36m, line \u001b[1;32m8\u001b[0m\n\u001b[1;33m    'anfuxueji','banchishanchun','banweizhenji',chihu+shidiao','danfuxueji','gaoyuanxuetu','gou','hongcuiya','hongsun','hongzuishanya','hongweiqu','huangyou','huwujiu',\u001b[0m\n\u001b[1;37m                                                             ^\u001b[0m\n\u001b[1;31mSyntaxError\u001b[0m\u001b[1;31m:\u001b[0m invalid syntax\n"
     ]
    }
   ],
   "metadata": {
    "tags": []
   }
  },
  {
   "cell_type": "code",
   "execution_count": null,
   "source": [
    "df_store=df_store.sort_values(by=\"Path\" , ascending=True)"
   ],
   "outputs": [],
   "metadata": {}
  },
  {
   "cell_type": "code",
   "execution_count": null,
   "source": [
    "df_store"
   ],
   "outputs": [],
   "metadata": {}
  },
  {
   "cell_type": "code",
   "execution_count": null,
   "source": [],
   "outputs": [],
   "metadata": {}
  }
 ],
 "metadata": {
  "kernelspec": {
   "name": "python3",
   "display_name": "Python 3.8.5 64-bit ('yolo': conda)"
  },
  "language_info": {
   "codemirror_mode": {
    "name": "ipython",
    "version": 3
   },
   "file_extension": ".py",
   "mimetype": "text/x-python",
   "name": "python",
   "nbconvert_exporter": "python",
   "pygments_lexer": "ipython3",
   "version": "3.8.5"
  },
  "interpreter": {
   "hash": "723e5ad21b19632c9ba7d3fc1fb1a8721c49f470c3d0ec8cdece9f3481f15317"
  }
 },
 "nbformat": 4,
 "nbformat_minor": 5
}
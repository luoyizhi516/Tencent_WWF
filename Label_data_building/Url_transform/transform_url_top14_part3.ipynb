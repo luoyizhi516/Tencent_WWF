{
 "cells": [
  {
   "cell_type": "code",
   "execution_count": 1,
   "metadata": {},
   "outputs": [],
   "source": [
    "import os\n",
    "base='D:\\WWF_Det\\WWF_Data\\Raw_Data/xuebao-120-all'\n",
    "cp_base=base+'-novideo/'\n",
    "os.system('cp -r '+base +' '+cp_base)\n",
    "folder_list=os.listdir(cp_base)\n",
    "for i in folder_list:\n",
    "    video_folder=cp_base+i+'/videos/'\n",
    "    os.system('rm -rf '+video_folder)"
   ]
  },
  {
   "cell_type": "code",
   "execution_count": null,
   "id": "8cdead5b",
   "metadata": {
    "ExecuteTime": {
     "end_time": "2021-06-08T11:52:51.951026Z",
     "start_time": "2021-06-08T11:52:51.944016Z"
    }
   },
   "outputs": [],
   "source": [
    "# -*- coding: UTF-8 -*-\n",
    "import os \n",
    "import pandas as pd\n",
    "import numpy as np \n"
   ]
  },
  {
   "cell_type": "code",
   "execution_count": null,
   "metadata": {
    "tags": []
   },
   "outputs": [],
   "source": [
    "df=pd.read_csv('D:/WWF_Det/WWF_Det/Label_data_building/Url_transform/Raw_csv/top14-part6.csv')\n",
    "df=df.drop(['异常信息','数据集ID','数据集名称'], axis=1)\n",
    "df=df.reset_index().drop(['index'],axis=1)\n",
    "df_store=pd.DataFrame(columns=['id','tag','Path','url','video_path','video_url'])\n",
    "for index, row in df.iterrows():\n",
    "    eng_class=['baichunlu','chihu','zanghu','maoniu','ma','mashe','yang','yanyang','person','xuebao','malu','lanmaji','gaoyuanshanchun','gaoyuantu']\n",
    "    chi_class=['白唇鹿','赤狐','藏狐','牦牛','马','马麝','羊','岩羊','人','雪豹','马鹿','蓝马鸡','高原山鹑','高原兔']\n",
    "    file_dir=row['文件路径'].replace('top14-p6-novideo','top14-p6',1)\n",
    "    cate_name=row['文件路径'].split('/')[1]\n",
    "    video_dir=file_dir.replace('frames','videos',1)\n",
    "    file_path=file_dir+row['文件名称']\n",
    "    houzhui_list=['.MOV','.AVI','.MP4']\n",
    "    for i in houzhui_list:\n",
    "        check_path='D:/WWF_Det/WWF_Data/Raw_Data/'+video_dir+row['文件名称'][:5]+i\n",
    "        print(check_path)\n",
    "        if os.path.exists(check_path):\n",
    "            video_path=check_path.replace('D:/WWF_Det/WWF_Data/Raw_Data/','',1)\n",
    "    for a,b in zip(eng_class,chi_class):\n",
    "        if cate_name==a: cate_name=b\n",
    "    df_store.loc[index,'tag']=cate_name\n",
    "    df_store.loc[index,'Path']=file_path\n",
    "    df_store.loc[index,'video_path']=video_path\n",
    "    df_store.loc[index,'url']=row['文件地址']\n",
    "\n",
    "df_store=df_store.sort_values(by=\"Path\" , ascending=True)\n",
    "df_store['id']=np.arange(1, len(df_store)+1)\n",
    "df_store['video_url']='None'\n",
    "df_store.to_csv(r'D:\\WWF_Det\\WWF_Det\\Label_data_building\\Url_transform\\Post_csv\\top14-part6.csv',index=False,encoding=\"utf_8_sig\")\n"
   ]
  },
  {
   "cell_type": "code",
   "execution_count": null,
   "metadata": {},
   "outputs": [],
   "source": [
    "df_store=df_store.sort_values(by=\"Path\" , ascending=True)"
   ]
  },
  {
   "cell_type": "code",
   "execution_count": null,
   "metadata": {},
   "outputs": [],
   "source": [
    "df_store"
   ]
  },
  {
   "cell_type": "code",
   "execution_count": null,
   "metadata": {},
   "outputs": [],
   "source": []
  }
 ],
 "metadata": {
  "kernelspec": {
   "name": "python3",
   "display_name": "Python 3.8.5 64-bit ('yolo': conda)"
  },
  "language_info": {
   "codemirror_mode": {
    "name": "ipython",
    "version": 3
   },
   "file_extension": ".py",
   "mimetype": "text/x-python",
   "name": "python",
   "nbconvert_exporter": "python",
   "pygments_lexer": "ipython3",
   "version": "3.8.5"
  },
  "interpreter": {
   "hash": "723e5ad21b19632c9ba7d3fc1fb1a8721c49f470c3d0ec8cdece9f3481f15317"
  }
 },
 "nbformat": 4,
 "nbformat_minor": 5
}
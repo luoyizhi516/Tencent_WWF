{
 "cells": [
  {
   "cell_type": "code",
   "execution_count": 1,
   "id": "8cdead5b",
   "metadata": {
    "ExecuteTime": {
     "end_time": "2021-06-08T11:52:51.951026Z",
     "start_time": "2021-06-08T11:52:51.944016Z"
    }
   },
   "outputs": [],
   "source": [
    "# -*- coding: UTF-8 -*-\n",
    "\n",
    "import os \n",
    "import pandas as pd\n",
    "import numpy as np \n"
   ]
  },
  {
   "cell_type": "code",
   "execution_count": 2,
   "metadata": {
    "tags": []
   },
   "outputs": [],
   "source": [
    "pos_csv_dir=(r'D:\\WWF_Det\\WWF_Det\\Label_data_building\\Url_transform\\Post_csv\\top14-part6.csv')\n",
    "data_name='top14-p6'\n",
    "pos_df=pd.read_csv(pos_csv_dir)\n",
    "split_dir=r'D:\\WWF_Det\\WWF_Det\\Label_data_building\\Url_transform\\Post_csv\\split_batch\\top14-p6/'\n",
    "if not os.path.exists(split_dir):os.makedirs(split_dir)\n",
    "\n",
    "\n",
    "cate_list =np.unique(pos_df['tag'].values.tolist())\n",
    "\n",
    "\n",
    "for cate in cate_list:\n",
    "    cate_df=pos_df.loc[(pos_df['tag'] == cate)]\n",
    "\n",
    "    #display(new_df)\n",
    "    cate_df.to_excel(split_dir+data_name+cate+'.xlsx',encoding='utf_8_sig',index=False)"
   ]
  },
  {
   "cell_type": "code",
   "execution_count": 3,
   "metadata": {},
   "outputs": [
    {
     "output_type": "execute_result",
     "data": {
      "text/plain": [
       "        id  tag                                      Path  \\\n",
       "806    807  高原兔  top14-p6/gaoyuantu/frames/00006-0001.jpg   \n",
       "807    808  高原兔  top14-p6/gaoyuantu/frames/00006-0002.jpg   \n",
       "808    809  高原兔  top14-p6/gaoyuantu/frames/00006-0003.jpg   \n",
       "809    810  高原兔  top14-p6/gaoyuantu/frames/00006-0004.jpg   \n",
       "810    811  高原兔  top14-p6/gaoyuantu/frames/00006-0005.jpg   \n",
       "...    ...  ...                                       ...   \n",
       "1219  1220  高原兔  top14-p6/gaoyuantu/frames/00130-0003.jpg   \n",
       "1220  1221  高原兔  top14-p6/gaoyuantu/frames/00130-0004.jpg   \n",
       "1221  1222  高原兔  top14-p6/gaoyuantu/frames/00130-0005.jpg   \n",
       "1222  1223  高原兔  top14-p6/gaoyuantu/frames/00130-0006.jpg   \n",
       "1223  1224  高原兔  top14-p6/gaoyuantu/frames/00130-0007.jpg   \n",
       "\n",
       "                                                    url  \\\n",
       "806   https://aidata-1258344706.cos.ap-guangzhou.myq...   \n",
       "807   https://aidata-1258344706.cos.ap-guangzhou.myq...   \n",
       "808   https://aidata-1258344706.cos.ap-guangzhou.myq...   \n",
       "809   https://aidata-1258344706.cos.ap-guangzhou.myq...   \n",
       "810   https://aidata-1258344706.cos.ap-guangzhou.myq...   \n",
       "...                                                 ...   \n",
       "1219  https://aidata-1258344706.cos.ap-guangzhou.myq...   \n",
       "1220  https://aidata-1258344706.cos.ap-guangzhou.myq...   \n",
       "1221  https://aidata-1258344706.cos.ap-guangzhou.myq...   \n",
       "1222  https://aidata-1258344706.cos.ap-guangzhou.myq...   \n",
       "1223  https://aidata-1258344706.cos.ap-guangzhou.myq...   \n",
       "\n",
       "                               video_path video_url  \n",
       "806   top14-p6/gaoyuantu/videos/00006.MP4      None  \n",
       "807   top14-p6/gaoyuantu/videos/00006.MP4      None  \n",
       "808   top14-p6/gaoyuantu/videos/00006.MP4      None  \n",
       "809   top14-p6/gaoyuantu/videos/00006.MP4      None  \n",
       "810   top14-p6/gaoyuantu/videos/00006.MP4      None  \n",
       "...                                   ...       ...  \n",
       "1219  top14-p6/gaoyuantu/videos/00130.AVI      None  \n",
       "1220  top14-p6/gaoyuantu/videos/00130.AVI      None  \n",
       "1221  top14-p6/gaoyuantu/videos/00130.AVI      None  \n",
       "1222  top14-p6/gaoyuantu/videos/00130.AVI      None  \n",
       "1223  top14-p6/gaoyuantu/videos/00130.AVI      None  \n",
       "\n",
       "[418 rows x 6 columns]"
      ],
      "text/html": "<div>\n<style scoped>\n    .dataframe tbody tr th:only-of-type {\n        vertical-align: middle;\n    }\n\n    .dataframe tbody tr th {\n        vertical-align: top;\n    }\n\n    .dataframe thead th {\n        text-align: right;\n    }\n</style>\n<table border=\"1\" class=\"dataframe\">\n  <thead>\n    <tr style=\"text-align: right;\">\n      <th></th>\n      <th>id</th>\n      <th>tag</th>\n      <th>Path</th>\n      <th>url</th>\n      <th>video_path</th>\n      <th>video_url</th>\n    </tr>\n  </thead>\n  <tbody>\n    <tr>\n      <th>806</th>\n      <td>807</td>\n      <td>高原兔</td>\n      <td>top14-p6/gaoyuantu/frames/00006-0001.jpg</td>\n      <td>https://aidata-1258344706.cos.ap-guangzhou.myq...</td>\n      <td>top14-p6/gaoyuantu/videos/00006.MP4</td>\n      <td>None</td>\n    </tr>\n    <tr>\n      <th>807</th>\n      <td>808</td>\n      <td>高原兔</td>\n      <td>top14-p6/gaoyuantu/frames/00006-0002.jpg</td>\n      <td>https://aidata-1258344706.cos.ap-guangzhou.myq...</td>\n      <td>top14-p6/gaoyuantu/videos/00006.MP4</td>\n      <td>None</td>\n    </tr>\n    <tr>\n      <th>808</th>\n      <td>809</td>\n      <td>高原兔</td>\n      <td>top14-p6/gaoyuantu/frames/00006-0003.jpg</td>\n      <td>https://aidata-1258344706.cos.ap-guangzhou.myq...</td>\n      <td>top14-p6/gaoyuantu/videos/00006.MP4</td>\n      <td>None</td>\n    </tr>\n    <tr>\n      <th>809</th>\n      <td>810</td>\n      <td>高原兔</td>\n      <td>top14-p6/gaoyuantu/frames/00006-0004.jpg</td>\n      <td>https://aidata-1258344706.cos.ap-guangzhou.myq...</td>\n      <td>top14-p6/gaoyuantu/videos/00006.MP4</td>\n      <td>None</td>\n    </tr>\n    <tr>\n      <th>810</th>\n      <td>811</td>\n      <td>高原兔</td>\n      <td>top14-p6/gaoyuantu/frames/00006-0005.jpg</td>\n      <td>https://aidata-1258344706.cos.ap-guangzhou.myq...</td>\n      <td>top14-p6/gaoyuantu/videos/00006.MP4</td>\n      <td>None</td>\n    </tr>\n    <tr>\n      <th>...</th>\n      <td>...</td>\n      <td>...</td>\n      <td>...</td>\n      <td>...</td>\n      <td>...</td>\n      <td>...</td>\n    </tr>\n    <tr>\n      <th>1219</th>\n      <td>1220</td>\n      <td>高原兔</td>\n      <td>top14-p6/gaoyuantu/frames/00130-0003.jpg</td>\n      <td>https://aidata-1258344706.cos.ap-guangzhou.myq...</td>\n      <td>top14-p6/gaoyuantu/videos/00130.AVI</td>\n      <td>None</td>\n    </tr>\n    <tr>\n      <th>1220</th>\n      <td>1221</td>\n      <td>高原兔</td>\n      <td>top14-p6/gaoyuantu/frames/00130-0004.jpg</td>\n      <td>https://aidata-1258344706.cos.ap-guangzhou.myq...</td>\n      <td>top14-p6/gaoyuantu/videos/00130.AVI</td>\n      <td>None</td>\n    </tr>\n    <tr>\n      <th>1221</th>\n      <td>1222</td>\n      <td>高原兔</td>\n      <td>top14-p6/gaoyuantu/frames/00130-0005.jpg</td>\n      <td>https://aidata-1258344706.cos.ap-guangzhou.myq...</td>\n      <td>top14-p6/gaoyuantu/videos/00130.AVI</td>\n      <td>None</td>\n    </tr>\n    <tr>\n      <th>1222</th>\n      <td>1223</td>\n      <td>高原兔</td>\n      <td>top14-p6/gaoyuantu/frames/00130-0006.jpg</td>\n      <td>https://aidata-1258344706.cos.ap-guangzhou.myq...</td>\n      <td>top14-p6/gaoyuantu/videos/00130.AVI</td>\n      <td>None</td>\n    </tr>\n    <tr>\n      <th>1223</th>\n      <td>1224</td>\n      <td>高原兔</td>\n      <td>top14-p6/gaoyuantu/frames/00130-0007.jpg</td>\n      <td>https://aidata-1258344706.cos.ap-guangzhou.myq...</td>\n      <td>top14-p6/gaoyuantu/videos/00130.AVI</td>\n      <td>None</td>\n    </tr>\n  </tbody>\n</table>\n<p>418 rows × 6 columns</p>\n</div>"
     },
     "metadata": {},
     "execution_count": 3
    }
   ],
   "source": [
    "cate_df"
   ]
  },
  {
   "cell_type": "code",
   "execution_count": 10,
   "metadata": {},
   "outputs": [
    {
     "output_type": "execute_result",
     "data": {
      "text/plain": [
       "        id  tag                                      Path  \\\n",
       "0        1  白唇鹿  top14-p5/baichunlu/frames/00012-0001.jpg   \n",
       "1        2  白唇鹿  top14-p5/baichunlu/frames/00012-0002.jpg   \n",
       "2        3  白唇鹿  top14-p5/baichunlu/frames/00012-0003.jpg   \n",
       "3        4  白唇鹿  top14-p5/baichunlu/frames/00012-0004.jpg   \n",
       "4        5  白唇鹿  top14-p5/baichunlu/frames/00012-0005.jpg   \n",
       "...    ...  ...                                       ...   \n",
       "4507  4508   藏狐     top14-p5/zanghu/frames/00098-0005.jpg   \n",
       "4508  4509   藏狐     top14-p5/zanghu/frames/00098-0006.jpg   \n",
       "4509  4510   藏狐     top14-p5/zanghu/frames/00098-0007.jpg   \n",
       "4510  4511   藏狐     top14-p5/zanghu/frames/00098-0008.jpg   \n",
       "4511  4512   藏狐     top14-p5/zanghu/frames/00098-0009.jpg   \n",
       "\n",
       "                                                    url  \\\n",
       "0     https://aidata-1258344706.cos.ap-guangzhou.myq...   \n",
       "1     https://aidata-1258344706.cos.ap-guangzhou.myq...   \n",
       "2     https://aidata-1258344706.cos.ap-guangzhou.myq...   \n",
       "3     https://aidata-1258344706.cos.ap-guangzhou.myq...   \n",
       "4     https://aidata-1258344706.cos.ap-guangzhou.myq...   \n",
       "...                                                 ...   \n",
       "4507  https://aidata-1258344706.cos.ap-guangzhou.myq...   \n",
       "4508  https://aidata-1258344706.cos.ap-guangzhou.myq...   \n",
       "4509  https://aidata-1258344706.cos.ap-guangzhou.myq...   \n",
       "4510  https://aidata-1258344706.cos.ap-guangzhou.myq...   \n",
       "4511  https://aidata-1258344706.cos.ap-guangzhou.myq...   \n",
       "\n",
       "                               video_path video_url  \n",
       "0     top14-p5/baichunlu/videos/00012.MP4      None  \n",
       "1     top14-p5/baichunlu/videos/00012.MP4      None  \n",
       "2     top14-p5/baichunlu/videos/00012.MP4      None  \n",
       "3     top14-p5/baichunlu/videos/00012.MP4      None  \n",
       "4     top14-p5/baichunlu/videos/00012.MP4      None  \n",
       "...                                   ...       ...  \n",
       "4507     top14-p5/zanghu/videos/00098.MP4      None  \n",
       "4508     top14-p5/zanghu/videos/00098.MP4      None  \n",
       "4509     top14-p5/zanghu/videos/00098.MP4      None  \n",
       "4510     top14-p5/zanghu/videos/00098.MP4      None  \n",
       "4511     top14-p5/zanghu/videos/00098.MP4      None  \n",
       "\n",
       "[4512 rows x 6 columns]"
      ],
      "text/html": "<div>\n<style scoped>\n    .dataframe tbody tr th:only-of-type {\n        vertical-align: middle;\n    }\n\n    .dataframe tbody tr th {\n        vertical-align: top;\n    }\n\n    .dataframe thead th {\n        text-align: right;\n    }\n</style>\n<table border=\"1\" class=\"dataframe\">\n  <thead>\n    <tr style=\"text-align: right;\">\n      <th></th>\n      <th>id</th>\n      <th>tag</th>\n      <th>Path</th>\n      <th>url</th>\n      <th>video_path</th>\n      <th>video_url</th>\n    </tr>\n  </thead>\n  <tbody>\n    <tr>\n      <th>0</th>\n      <td>1</td>\n      <td>白唇鹿</td>\n      <td>top14-p5/baichunlu/frames/00012-0001.jpg</td>\n      <td>https://aidata-1258344706.cos.ap-guangzhou.myq...</td>\n      <td>top14-p5/baichunlu/videos/00012.MP4</td>\n      <td>None</td>\n    </tr>\n    <tr>\n      <th>1</th>\n      <td>2</td>\n      <td>白唇鹿</td>\n      <td>top14-p5/baichunlu/frames/00012-0002.jpg</td>\n      <td>https://aidata-1258344706.cos.ap-guangzhou.myq...</td>\n      <td>top14-p5/baichunlu/videos/00012.MP4</td>\n      <td>None</td>\n    </tr>\n    <tr>\n      <th>2</th>\n      <td>3</td>\n      <td>白唇鹿</td>\n      <td>top14-p5/baichunlu/frames/00012-0003.jpg</td>\n      <td>https://aidata-1258344706.cos.ap-guangzhou.myq...</td>\n      <td>top14-p5/baichunlu/videos/00012.MP4</td>\n      <td>None</td>\n    </tr>\n    <tr>\n      <th>3</th>\n      <td>4</td>\n      <td>白唇鹿</td>\n      <td>top14-p5/baichunlu/frames/00012-0004.jpg</td>\n      <td>https://aidata-1258344706.cos.ap-guangzhou.myq...</td>\n      <td>top14-p5/baichunlu/videos/00012.MP4</td>\n      <td>None</td>\n    </tr>\n    <tr>\n      <th>4</th>\n      <td>5</td>\n      <td>白唇鹿</td>\n      <td>top14-p5/baichunlu/frames/00012-0005.jpg</td>\n      <td>https://aidata-1258344706.cos.ap-guangzhou.myq...</td>\n      <td>top14-p5/baichunlu/videos/00012.MP4</td>\n      <td>None</td>\n    </tr>\n    <tr>\n      <th>...</th>\n      <td>...</td>\n      <td>...</td>\n      <td>...</td>\n      <td>...</td>\n      <td>...</td>\n      <td>...</td>\n    </tr>\n    <tr>\n      <th>4507</th>\n      <td>4508</td>\n      <td>藏狐</td>\n      <td>top14-p5/zanghu/frames/00098-0005.jpg</td>\n      <td>https://aidata-1258344706.cos.ap-guangzhou.myq...</td>\n      <td>top14-p5/zanghu/videos/00098.MP4</td>\n      <td>None</td>\n    </tr>\n    <tr>\n      <th>4508</th>\n      <td>4509</td>\n      <td>藏狐</td>\n      <td>top14-p5/zanghu/frames/00098-0006.jpg</td>\n      <td>https://aidata-1258344706.cos.ap-guangzhou.myq...</td>\n      <td>top14-p5/zanghu/videos/00098.MP4</td>\n      <td>None</td>\n    </tr>\n    <tr>\n      <th>4509</th>\n      <td>4510</td>\n      <td>藏狐</td>\n      <td>top14-p5/zanghu/frames/00098-0007.jpg</td>\n      <td>https://aidata-1258344706.cos.ap-guangzhou.myq...</td>\n      <td>top14-p5/zanghu/videos/00098.MP4</td>\n      <td>None</td>\n    </tr>\n    <tr>\n      <th>4510</th>\n      <td>4511</td>\n      <td>藏狐</td>\n      <td>top14-p5/zanghu/frames/00098-0008.jpg</td>\n      <td>https://aidata-1258344706.cos.ap-guangzhou.myq...</td>\n      <td>top14-p5/zanghu/videos/00098.MP4</td>\n      <td>None</td>\n    </tr>\n    <tr>\n      <th>4511</th>\n      <td>4512</td>\n      <td>藏狐</td>\n      <td>top14-p5/zanghu/frames/00098-0009.jpg</td>\n      <td>https://aidata-1258344706.cos.ap-guangzhou.myq...</td>\n      <td>top14-p5/zanghu/videos/00098.MP4</td>\n      <td>None</td>\n    </tr>\n  </tbody>\n</table>\n<p>4512 rows × 6 columns</p>\n</div>"
     },
     "metadata": {},
     "execution_count": 10
    }
   ],
   "source": [
    "pos_df"
   ]
  },
  {
   "cell_type": "code",
   "execution_count": null,
   "metadata": {},
   "outputs": [],
   "source": []
  }
 ],
 "metadata": {
  "kernelspec": {
   "name": "python3",
   "display_name": "Python 3.8.5 64-bit ('yolo': conda)"
  },
  "language_info": {
   "codemirror_mode": {
    "name": "ipython",
    "version": 3
   },
   "file_extension": ".py",
   "mimetype": "text/x-python",
   "name": "python",
   "nbconvert_exporter": "python",
   "pygments_lexer": "ipython3",
   "version": "3.8.5"
  },
  "interpreter": {
   "hash": "723e5ad21b19632c9ba7d3fc1fb1a8721c49f470c3d0ec8cdece9f3481f15317"
  }
 },
 "nbformat": 4,
 "nbformat_minor": 5
}
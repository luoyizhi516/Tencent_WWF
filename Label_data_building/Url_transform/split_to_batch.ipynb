{
 "cells": [
  {
   "cell_type": "code",
   "execution_count": 5,
   "id": "8cdead5b",
   "metadata": {
    "ExecuteTime": {
     "end_time": "2021-06-08T11:52:51.951026Z",
     "start_time": "2021-06-08T11:52:51.944016Z"
    }
   },
   "outputs": [],
   "source": [
    "# -*- coding: UTF-8 -*-\n",
    "\n",
    "import os \n",
    "import pandas as pd\n",
    "import numpy as np \n"
   ]
  },
  {
   "cell_type": "code",
   "execution_count": 6,
   "metadata": {
    "tags": []
   },
   "outputs": [],
   "source": [
    "pos_csv_dir=(r'D:\\WWF_Det\\WWF_Det\\Label_data_building\\Url_transform\\Post_csv\\top14-part6.csv')\n",
    "data_name='top14-p6-new'\n",
    "pos_df=pd.read_csv(pos_csv_dir)\n",
    "split_dir=r'D:\\WWF_Det\\WWF_Det\\Label_data_building\\Url_transform\\Post_csv\\split_batch\\top14-p6/'\n",
    "if not os.path.exists(split_dir):os.makedirs(split_dir)\n",
    "\n",
    "\n",
    "cate_list =np.unique(pos_df['tag'].values.tolist())\n",
    "\n",
    "\n",
    "for cate in cate_list:\n",
    "    cate_df=pos_df.loc[(pos_df['tag'] == cate)]\n",
    "\n",
    "    #display(new_df)\n",
    "    cate_df.to_excel(split_dir+data_name+cate+'.xlsx',encoding='utf_8_sig',index=False)"
   ]
  },
  {
   "cell_type": "code",
   "execution_count": null,
   "metadata": {},
   "outputs": [],
   "source": []
  }
 ],
 "metadata": {
  "kernelspec": {
   "name": "python3",
   "display_name": "Python 3.8.5 64-bit ('yolo': conda)"
  },
  "language_info": {
   "codemirror_mode": {
    "name": "ipython",
    "version": 3
   },
   "file_extension": ".py",
   "mimetype": "text/x-python",
   "name": "python",
   "nbconvert_exporter": "python",
   "pygments_lexer": "ipython3",
   "version": "3.8.5"
  },
  "interpreter": {
   "hash": "723e5ad21b19632c9ba7d3fc1fb1a8721c49f470c3d0ec8cdece9f3481f15317"
  }
 },
 "nbformat": 4,
 "nbformat_minor": 5
}
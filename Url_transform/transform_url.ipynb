{
 "cells": [
  {
   "cell_type": "code",
   "execution_count": 131,
   "id": "877a6eb2",
   "metadata": {
    "ExecuteTime": {
     "end_time": "2021-06-09T02:16:58.863191Z",
     "start_time": "2021-06-09T02:16:58.859174Z"
    }
   },
   "outputs": [],
   "source": [
    "# -*- coding: UTF-8 -*-\n",
    "import pandas as pd\n",
    "import numpy as np\n",
    "import os\n"
   ]
  },
  {
   "cell_type": "code",
   "execution_count": 142,
   "id": "954e3a7a",
   "metadata": {
    "ExecuteTime": {
     "end_time": "2021-06-09T02:25:52.696646Z",
     "start_time": "2021-06-09T02:25:52.687690Z"
    }
   },
   "outputs": [],
   "source": [
    "def url_upload_transform(input_csv):\n",
    "    eng_class=['baichunlu','chihu','zanghu','maoniu','ma','mashe','yang','yanyang','person','xuebao','malu','lanmaji','gaoyuanshanchun','gaoyuantu']\n",
    "    chi_class=['白唇鹿','赤狐','藏狐','牦牛','马','马麝','羊','岩羊','人','雪豹','马鹿','蓝马鸡','高原山鹑','高原兔']\n",
    "    df=pd.read_csv(input_csv)\n",
    "    df=df.sort_values(by=\"文件名称\" , ascending=True)\n",
    "    df=df.drop(['异常信息','数据集ID','数据集名称'], axis=1)\n",
    "    df=df.reset_index().drop(['index'],axis=1)\n",
    "    df_store=pd.DataFrame(columns=['id','tag','Path','url','video_path','video_url'])\n",
    "    file_name_list=df['文件名称']\n",
    "    for file in file_name_list:\n",
    "        if file.lower().strip().endswith('.jpg'):\n",
    "            df_store=df_store.append([{'tag':file}], ignore_index=True)\n",
    "            video_head=os.path.splitext(file)[0].split('-')[0]\n",
    "            for v_class in ['.MOV','.AVI','.MP4']:\n",
    "                video_name=video_head+v_class\n",
    "                for file_2 in file_name_list:\n",
    "                    if file_2 == video_name:\n",
    "                        index = df_store[df_store.tag == file].index.tolist()[0]\n",
    "                        index_file = df[df.文件名称 == file].index.tolist()[0]\n",
    "                        index_video=df[df.文件名称 == file_2].index.tolist()[0]\n",
    "                        df_store.loc[index,'Path']=df.loc[index_file,'文件路径']+file\n",
    "                        df_store.loc[index,'url']=df.loc[index_file,'文件地址']\n",
    "                        df_store.loc[index,'video_path']=df.loc[index_video,'文件路径']+video_name\n",
    "                        df_store.loc[index,'video_url']=df.loc[index_video,'文件地址']\n",
    "    cate_name=df.loc[index_file,'文件路径'][:-8]\n",
    "    for a,b in zip(eng_class,chi_class):\n",
    "        if cate_name==a:\n",
    "            cate_name=b\n",
    "    df_store['tag']=cate_name\n",
    "    df_store['id']=np.arange(1, len(df_store)+1)\n",
    "    df_store.to_csv('top14-dataset-part1-urls/'+cate_name+'.csv',index=False,encoding=\"utf_8_sig\")\n",
    "    return df_store"
   ]
  },
  {
   "cell_type": "code",
   "execution_count": 143,
   "id": "0198adf1",
   "metadata": {
    "ExecuteTime": {
     "end_time": "2021-06-09T02:26:24.301468Z",
     "start_time": "2021-06-09T02:26:05.191213Z"
    }
   },
   "outputs": [],
   "source": [
    "base_urls='aidata-urls/'\n",
    "aidata_url_list=os.listdir(base_urls)\n",
    "for url in aidata_url_list:\n",
    "    url_upload_transform(base_urls+url)\n",
    "    df_store\n"
   ]
  },
  {
   "cell_type": "code",
   "execution_count": 144,
   "id": "6efbb532",
   "metadata": {
    "ExecuteTime": {
     "end_time": "2021-06-09T02:26:39.578908Z",
     "start_time": "2021-06-09T02:26:39.574947Z"
    }
   },
   "outputs": [],
   "source": [
    "def combine_transform(base):\n",
    "    trans_file_list=os.listdir(base)\n",
    "    create_new=True\n",
    "    for trans in trans_file_list:\n",
    "        df=pd.read_csv(base+trans)\n",
    "\n",
    "\n",
    "        if create_new:\n",
    "            df_all=df\n",
    "            create_new=False\n",
    "            continue\n",
    "        df_all=pd.concat([df_all,df])\n",
    "    df_all['id']=np.arange(1, len(df_all)+1)\n",
    "    df_all.to_csv('top14-dataset-part1-urls/top14-dataset-urls.csv',index=False,encoding=\"utf_8_sig\")\n",
    "    return df_all"
   ]
  },
  {
   "cell_type": "code",
   "execution_count": 145,
   "id": "831a6752",
   "metadata": {
    "ExecuteTime": {
     "end_time": "2021-06-09T02:26:44.852401Z",
     "start_time": "2021-06-09T02:26:44.318828Z"
    }
   },
   "outputs": [
    {
     "data": {
      "text/html": [
       "<div>\n",
       "<style scoped>\n",
       "    .dataframe tbody tr th:only-of-type {\n",
       "        vertical-align: middle;\n",
       "    }\n",
       "\n",
       "    .dataframe tbody tr th {\n",
       "        vertical-align: top;\n",
       "    }\n",
       "\n",
       "    .dataframe thead th {\n",
       "        text-align: right;\n",
       "    }\n",
       "</style>\n",
       "<table border=\"1\" class=\"dataframe\">\n",
       "  <thead>\n",
       "    <tr style=\"text-align: right;\">\n",
       "      <th></th>\n",
       "      <th>id</th>\n",
       "      <th>tag</th>\n",
       "      <th>Path</th>\n",
       "      <th>url</th>\n",
       "      <th>video_path</th>\n",
       "      <th>video_url</th>\n",
       "    </tr>\n",
       "  </thead>\n",
       "  <tbody>\n",
       "    <tr>\n",
       "      <th>0</th>\n",
       "      <td>1</td>\n",
       "      <td>人</td>\n",
       "      <td>person/frames/00019-0001.jpg</td>\n",
       "      <td>https://aidata-1258344706.cos.ap-guangzhou.myq...</td>\n",
       "      <td>person/videos/00019.AVI</td>\n",
       "      <td>https://aidata-1258344706.cos.ap-guangzhou.myq...</td>\n",
       "    </tr>\n",
       "    <tr>\n",
       "      <th>1</th>\n",
       "      <td>2</td>\n",
       "      <td>人</td>\n",
       "      <td>person/frames/00019-0002.jpg</td>\n",
       "      <td>https://aidata-1258344706.cos.ap-guangzhou.myq...</td>\n",
       "      <td>person/videos/00019.AVI</td>\n",
       "      <td>https://aidata-1258344706.cos.ap-guangzhou.myq...</td>\n",
       "    </tr>\n",
       "    <tr>\n",
       "      <th>2</th>\n",
       "      <td>3</td>\n",
       "      <td>人</td>\n",
       "      <td>person/frames/00019-0003.jpg</td>\n",
       "      <td>https://aidata-1258344706.cos.ap-guangzhou.myq...</td>\n",
       "      <td>person/videos/00019.AVI</td>\n",
       "      <td>https://aidata-1258344706.cos.ap-guangzhou.myq...</td>\n",
       "    </tr>\n",
       "    <tr>\n",
       "      <th>3</th>\n",
       "      <td>4</td>\n",
       "      <td>人</td>\n",
       "      <td>person/frames/00019-0004.jpg</td>\n",
       "      <td>https://aidata-1258344706.cos.ap-guangzhou.myq...</td>\n",
       "      <td>person/videos/00019.AVI</td>\n",
       "      <td>https://aidata-1258344706.cos.ap-guangzhou.myq...</td>\n",
       "    </tr>\n",
       "    <tr>\n",
       "      <th>4</th>\n",
       "      <td>5</td>\n",
       "      <td>人</td>\n",
       "      <td>person/frames/00019-0005.jpg</td>\n",
       "      <td>https://aidata-1258344706.cos.ap-guangzhou.myq...</td>\n",
       "      <td>person/videos/00019.AVI</td>\n",
       "      <td>https://aidata-1258344706.cos.ap-guangzhou.myq...</td>\n",
       "    </tr>\n",
       "    <tr>\n",
       "      <th>...</th>\n",
       "      <td>...</td>\n",
       "      <td>...</td>\n",
       "      <td>...</td>\n",
       "      <td>...</td>\n",
       "      <td>...</td>\n",
       "      <td>...</td>\n",
       "    </tr>\n",
       "    <tr>\n",
       "      <th>464</th>\n",
       "      <td>6939</td>\n",
       "      <td>高原山鹑</td>\n",
       "      <td>gaoyuanshanchun/frames/00080-0008.jpg</td>\n",
       "      <td>https://aidata-1258344706.cos.ap-guangzhou.myq...</td>\n",
       "      <td>gaoyuanshanchun/videos/00080.AVI</td>\n",
       "      <td>https://aidata-1258344706.cos.ap-guangzhou.myq...</td>\n",
       "    </tr>\n",
       "    <tr>\n",
       "      <th>465</th>\n",
       "      <td>6940</td>\n",
       "      <td>高原山鹑</td>\n",
       "      <td>gaoyuanshanchun/frames/00080-0009.jpg</td>\n",
       "      <td>https://aidata-1258344706.cos.ap-guangzhou.myq...</td>\n",
       "      <td>gaoyuanshanchun/videos/00080.AVI</td>\n",
       "      <td>https://aidata-1258344706.cos.ap-guangzhou.myq...</td>\n",
       "    </tr>\n",
       "    <tr>\n",
       "      <th>466</th>\n",
       "      <td>6941</td>\n",
       "      <td>高原山鹑</td>\n",
       "      <td>gaoyuanshanchun/frames/00080-0010.jpg</td>\n",
       "      <td>https://aidata-1258344706.cos.ap-guangzhou.myq...</td>\n",
       "      <td>gaoyuanshanchun/videos/00080.AVI</td>\n",
       "      <td>https://aidata-1258344706.cos.ap-guangzhou.myq...</td>\n",
       "    </tr>\n",
       "    <tr>\n",
       "      <th>467</th>\n",
       "      <td>6942</td>\n",
       "      <td>高原山鹑</td>\n",
       "      <td>gaoyuanshanchun/frames/00080-0011.jpg</td>\n",
       "      <td>https://aidata-1258344706.cos.ap-guangzhou.myq...</td>\n",
       "      <td>gaoyuanshanchun/videos/00080.AVI</td>\n",
       "      <td>https://aidata-1258344706.cos.ap-guangzhou.myq...</td>\n",
       "    </tr>\n",
       "    <tr>\n",
       "      <th>468</th>\n",
       "      <td>6943</td>\n",
       "      <td>高原山鹑</td>\n",
       "      <td>gaoyuanshanchun/frames/00080-0012.jpg</td>\n",
       "      <td>https://aidata-1258344706.cos.ap-guangzhou.myq...</td>\n",
       "      <td>gaoyuanshanchun/videos/00080.AVI</td>\n",
       "      <td>https://aidata-1258344706.cos.ap-guangzhou.myq...</td>\n",
       "    </tr>\n",
       "  </tbody>\n",
       "</table>\n",
       "<p>6943 rows × 6 columns</p>\n",
       "</div>"
      ],
      "text/plain": [
       "       id   tag                                   Path  \\\n",
       "0       1     人           person/frames/00019-0001.jpg   \n",
       "1       2     人           person/frames/00019-0002.jpg   \n",
       "2       3     人           person/frames/00019-0003.jpg   \n",
       "3       4     人           person/frames/00019-0004.jpg   \n",
       "4       5     人           person/frames/00019-0005.jpg   \n",
       "..    ...   ...                                    ...   \n",
       "464  6939  高原山鹑  gaoyuanshanchun/frames/00080-0008.jpg   \n",
       "465  6940  高原山鹑  gaoyuanshanchun/frames/00080-0009.jpg   \n",
       "466  6941  高原山鹑  gaoyuanshanchun/frames/00080-0010.jpg   \n",
       "467  6942  高原山鹑  gaoyuanshanchun/frames/00080-0011.jpg   \n",
       "468  6943  高原山鹑  gaoyuanshanchun/frames/00080-0012.jpg   \n",
       "\n",
       "                                                   url  \\\n",
       "0    https://aidata-1258344706.cos.ap-guangzhou.myq...   \n",
       "1    https://aidata-1258344706.cos.ap-guangzhou.myq...   \n",
       "2    https://aidata-1258344706.cos.ap-guangzhou.myq...   \n",
       "3    https://aidata-1258344706.cos.ap-guangzhou.myq...   \n",
       "4    https://aidata-1258344706.cos.ap-guangzhou.myq...   \n",
       "..                                                 ...   \n",
       "464  https://aidata-1258344706.cos.ap-guangzhou.myq...   \n",
       "465  https://aidata-1258344706.cos.ap-guangzhou.myq...   \n",
       "466  https://aidata-1258344706.cos.ap-guangzhou.myq...   \n",
       "467  https://aidata-1258344706.cos.ap-guangzhou.myq...   \n",
       "468  https://aidata-1258344706.cos.ap-guangzhou.myq...   \n",
       "\n",
       "                           video_path  \\\n",
       "0             person/videos/00019.AVI   \n",
       "1             person/videos/00019.AVI   \n",
       "2             person/videos/00019.AVI   \n",
       "3             person/videos/00019.AVI   \n",
       "4             person/videos/00019.AVI   \n",
       "..                                ...   \n",
       "464  gaoyuanshanchun/videos/00080.AVI   \n",
       "465  gaoyuanshanchun/videos/00080.AVI   \n",
       "466  gaoyuanshanchun/videos/00080.AVI   \n",
       "467  gaoyuanshanchun/videos/00080.AVI   \n",
       "468  gaoyuanshanchun/videos/00080.AVI   \n",
       "\n",
       "                                             video_url  \n",
       "0    https://aidata-1258344706.cos.ap-guangzhou.myq...  \n",
       "1    https://aidata-1258344706.cos.ap-guangzhou.myq...  \n",
       "2    https://aidata-1258344706.cos.ap-guangzhou.myq...  \n",
       "3    https://aidata-1258344706.cos.ap-guangzhou.myq...  \n",
       "4    https://aidata-1258344706.cos.ap-guangzhou.myq...  \n",
       "..                                                 ...  \n",
       "464  https://aidata-1258344706.cos.ap-guangzhou.myq...  \n",
       "465  https://aidata-1258344706.cos.ap-guangzhou.myq...  \n",
       "466  https://aidata-1258344706.cos.ap-guangzhou.myq...  \n",
       "467  https://aidata-1258344706.cos.ap-guangzhou.myq...  \n",
       "468  https://aidata-1258344706.cos.ap-guangzhou.myq...  \n",
       "\n",
       "[6943 rows x 6 columns]"
      ]
     },
     "execution_count": 145,
     "metadata": {},
     "output_type": "execute_result"
    }
   ],
   "source": [
    "combine_transform('top14-dataset-part1-urls/')"
   ]
  },
  {
   "cell_type": "code",
   "execution_count": 5,
   "id": "8cdead5b",
   "metadata": {
    "ExecuteTime": {
     "end_time": "2021-06-08T11:52:51.951026Z",
     "start_time": "2021-06-08T11:52:51.944016Z"
    }
   },
   "outputs": [],
   "source": [
    "# -*- coding: UTF-8 -*-\n",
    "import os \n",
    "import pandas as pd\n",
    "import numpy as np \n"
   ]
  },
  {
   "cell_type": "code",
   "execution_count": 12,
   "id": "2ece0e67",
   "metadata": {},
   "outputs": [],
   "source": [
    "df=pd.read_csv('E:/全部数据集_三批/url转换结果_602251204891484160.csv')\n",
    "df=df.drop(['异常信息','数据集ID','数据集名称'], axis=1)\n",
    "df=df.reset_index().drop(['index'],axis=1)\n",
    "df_store=pd.DataFrame(columns=['id','tag','Path','url','video_path'])\n"
   ]
  },
  {
   "cell_type": "code",
   "execution_count": 13,
   "metadata": {},
   "outputs": [
    {
     "output_type": "display_data",
     "data": {
      "text/plain": "                文件名称                                    文件路径  \\\n0     00016-0007.jpg    primary_supplement-novid/pao/frames/   \n1     00005-0015.jpg  primary_supplement-novid/sheli/frames/   \n2     00005-0003.jpg    primary_supplement-novid/pao/frames/   \n3     00005-0016.jpg  primary_supplement-novid/sheli/frames/   \n4     00005-0004.jpg    primary_supplement-novid/pao/frames/   \n...              ...                                     ...   \n3242  00016-0012.jpg   primary_supplement-novid/lang/frames/   \n3243  00016-0013.jpg   primary_supplement-novid/lang/frames/   \n3244  00016-0014.jpg   primary_supplement-novid/lang/frames/   \n3245  00016-0015.jpg   primary_supplement-novid/lang/frames/   \n3246  00016-0016.jpg   primary_supplement-novid/lang/frames/   \n\n                                                   文件地址  \n0     https://aidata-1258344706.cos.ap-guangzhou.myq...  \n1     https://aidata-1258344706.cos.ap-guangzhou.myq...  \n2     https://aidata-1258344706.cos.ap-guangzhou.myq...  \n3     https://aidata-1258344706.cos.ap-guangzhou.myq...  \n4     https://aidata-1258344706.cos.ap-guangzhou.myq...  \n...                                                 ...  \n3242  https://aidata-1258344706.cos.ap-guangzhou.myq...  \n3243  https://aidata-1258344706.cos.ap-guangzhou.myq...  \n3244  https://aidata-1258344706.cos.ap-guangzhou.myq...  \n3245  https://aidata-1258344706.cos.ap-guangzhou.myq...  \n3246  https://aidata-1258344706.cos.ap-guangzhou.myq...  \n\n[3247 rows x 3 columns]",
      "text/html": "<div>\n<style scoped>\n    .dataframe tbody tr th:only-of-type {\n        vertical-align: middle;\n    }\n\n    .dataframe tbody tr th {\n        vertical-align: top;\n    }\n\n    .dataframe thead th {\n        text-align: right;\n    }\n</style>\n<table border=\"1\" class=\"dataframe\">\n  <thead>\n    <tr style=\"text-align: right;\">\n      <th></th>\n      <th>文件名称</th>\n      <th>文件路径</th>\n      <th>文件地址</th>\n    </tr>\n  </thead>\n  <tbody>\n    <tr>\n      <th>0</th>\n      <td>00016-0007.jpg</td>\n      <td>primary_supplement-novid/pao/frames/</td>\n      <td>https://aidata-1258344706.cos.ap-guangzhou.myq...</td>\n    </tr>\n    <tr>\n      <th>1</th>\n      <td>00005-0015.jpg</td>\n      <td>primary_supplement-novid/sheli/frames/</td>\n      <td>https://aidata-1258344706.cos.ap-guangzhou.myq...</td>\n    </tr>\n    <tr>\n      <th>2</th>\n      <td>00005-0003.jpg</td>\n      <td>primary_supplement-novid/pao/frames/</td>\n      <td>https://aidata-1258344706.cos.ap-guangzhou.myq...</td>\n    </tr>\n    <tr>\n      <th>3</th>\n      <td>00005-0016.jpg</td>\n      <td>primary_supplement-novid/sheli/frames/</td>\n      <td>https://aidata-1258344706.cos.ap-guangzhou.myq...</td>\n    </tr>\n    <tr>\n      <th>4</th>\n      <td>00005-0004.jpg</td>\n      <td>primary_supplement-novid/pao/frames/</td>\n      <td>https://aidata-1258344706.cos.ap-guangzhou.myq...</td>\n    </tr>\n    <tr>\n      <th>...</th>\n      <td>...</td>\n      <td>...</td>\n      <td>...</td>\n    </tr>\n    <tr>\n      <th>3242</th>\n      <td>00016-0012.jpg</td>\n      <td>primary_supplement-novid/lang/frames/</td>\n      <td>https://aidata-1258344706.cos.ap-guangzhou.myq...</td>\n    </tr>\n    <tr>\n      <th>3243</th>\n      <td>00016-0013.jpg</td>\n      <td>primary_supplement-novid/lang/frames/</td>\n      <td>https://aidata-1258344706.cos.ap-guangzhou.myq...</td>\n    </tr>\n    <tr>\n      <th>3244</th>\n      <td>00016-0014.jpg</td>\n      <td>primary_supplement-novid/lang/frames/</td>\n      <td>https://aidata-1258344706.cos.ap-guangzhou.myq...</td>\n    </tr>\n    <tr>\n      <th>3245</th>\n      <td>00016-0015.jpg</td>\n      <td>primary_supplement-novid/lang/frames/</td>\n      <td>https://aidata-1258344706.cos.ap-guangzhou.myq...</td>\n    </tr>\n    <tr>\n      <th>3246</th>\n      <td>00016-0016.jpg</td>\n      <td>primary_supplement-novid/lang/frames/</td>\n      <td>https://aidata-1258344706.cos.ap-guangzhou.myq...</td>\n    </tr>\n  </tbody>\n</table>\n<p>3247 rows × 3 columns</p>\n</div>"
     },
     "metadata": {}
    }
   ],
   "source": [
    "display(df)"
   ]
  },
  {
   "cell_type": "code",
   "execution_count": 43,
   "metadata": {
    "tags": []
   },
   "outputs": [],
   "source": [
    "df=pd.read_csv('E:/全部数据集_三批/url转换结果_602251204891484160.csv')\n",
    "df=df.drop(['异常信息','数据集ID','数据集名称'], axis=1)\n",
    "df=df.reset_index().drop(['index'],axis=1)\n",
    "df_store=pd.DataFrame(columns=['id','tag','Path','url','video_path','video_url'])\n",
    "for index, row in df.iterrows():\n",
    "    eng_class=['lang','pao','shidiao','sheli','lv','chai','hanta','zongxiong','huangmomao']\n",
    "    chi_class=['狼','狍','石貂','猞猁','藏野驴','豺','旱獭','棕熊','荒漠猫']\n",
    "    file_dir=row['文件路径'].replace('primary_supplement-novid','primary_supplement',1)\n",
    "    cate_name=row['文件路径'].split('/')[1]\n",
    "    video_dir=file_dir.replace('frames','videos',1)\n",
    "    file_path=file_dir+row['文件名称']\n",
    "    houzhui_list=['.MOV','.AVI','.MP4']\n",
    "    for i in houzhui_list:\n",
    "        check_path='D:/'+video_dir+row['文件名称'][:5]+i\n",
    "        if os.path.exists(check_path):\n",
    "            video_path=check_path.replace('D:/','',1)\n",
    "    for a,b in zip(eng_class,chi_class):\n",
    "        if cate_name==a: cate_name=b\n",
    "    df_store.loc[index,'tag']=cate_name\n",
    "    df_store.loc[index,'Path']=file_path\n",
    "    df_store.loc[index,'video_path']=video_path\n",
    "    df_store.loc[index,'url']=row['文件地址']\n",
    "\n",
    "df_store=df_store.sort_values(by=\"Path\" , ascending=True)\n",
    "df_store['id']=np.arange(1, len(df_store)+1)\n",
    "df_store['video_url']='None'\n",
    "df_store.to_csv('D:/primary_supplement.csv',index=False,encoding=\"utf_8_sig\")\n"
   ]
  },
  {
   "cell_type": "code",
   "execution_count": 19,
   "metadata": {},
   "outputs": [],
   "source": [
    "df_store=df_store.sort_values(by=\"Path\" , ascending=True)"
   ]
  },
  {
   "cell_type": "code",
   "execution_count": 38,
   "metadata": {},
   "outputs": [
    {
     "output_type": "execute_result",
     "data": {
      "text/plain": [
       "        id tag                                               Path  \\\n",
       "2688     1   豺      primary_supplement/chai/frames/00001-0001.jpg   \n",
       "2863     2   豺      primary_supplement/chai/frames/00001-0002.jpg   \n",
       "2866     3   豺      primary_supplement/chai/frames/00001-0003.jpg   \n",
       "2868     4   豺      primary_supplement/chai/frames/00001-0004.jpg   \n",
       "2870     5   豺      primary_supplement/chai/frames/00001-0005.jpg   \n",
       "...    ...  ..                                                ...   \n",
       "1948  3243  棕熊  primary_supplement/zongxiong/frames/00006-0008...   \n",
       "1950  3244  棕熊  primary_supplement/zongxiong/frames/00006-0009...   \n",
       "1959  3245  棕熊  primary_supplement/zongxiong/frames/00006-0010...   \n",
       "3237  3246  棕熊  primary_supplement/zongxiong/frames/00006-0011...   \n",
       "3240  3247  棕熊  primary_supplement/zongxiong/frames/00006-0012...   \n",
       "\n",
       "                                                    url  \\\n",
       "2688  https://aidata-1258344706.cos.ap-guangzhou.myq...   \n",
       "2863  https://aidata-1258344706.cos.ap-guangzhou.myq...   \n",
       "2866  https://aidata-1258344706.cos.ap-guangzhou.myq...   \n",
       "2868  https://aidata-1258344706.cos.ap-guangzhou.myq...   \n",
       "2870  https://aidata-1258344706.cos.ap-guangzhou.myq...   \n",
       "...                                                 ...   \n",
       "1948  https://aidata-1258344706.cos.ap-guangzhou.myq...   \n",
       "1950  https://aidata-1258344706.cos.ap-guangzhou.myq...   \n",
       "1959  https://aidata-1258344706.cos.ap-guangzhou.myq...   \n",
       "3237  https://aidata-1258344706.cos.ap-guangzhou.myq...   \n",
       "3240  https://aidata-1258344706.cos.ap-guangzhou.myq...   \n",
       "\n",
       "                                            video_path  \n",
       "2688       D:/primary_supplement/chai/videos/00001.AVI  \n",
       "2863       D:/primary_supplement/chai/videos/00001.AVI  \n",
       "2866       D:/primary_supplement/chai/videos/00001.AVI  \n",
       "2868       D:/primary_supplement/chai/videos/00001.AVI  \n",
       "2870       D:/primary_supplement/chai/videos/00001.AVI  \n",
       "...                                                ...  \n",
       "1948  D:/primary_supplement/zongxiong/videos/00006.AVI  \n",
       "1950  D:/primary_supplement/zongxiong/videos/00006.AVI  \n",
       "1959  D:/primary_supplement/zongxiong/videos/00006.AVI  \n",
       "3237  D:/primary_supplement/zongxiong/videos/00006.AVI  \n",
       "3240  D:/primary_supplement/zongxiong/videos/00006.AVI  \n",
       "\n",
       "[3247 rows x 5 columns]"
      ],
      "text/html": "<div>\n<style scoped>\n    .dataframe tbody tr th:only-of-type {\n        vertical-align: middle;\n    }\n\n    .dataframe tbody tr th {\n        vertical-align: top;\n    }\n\n    .dataframe thead th {\n        text-align: right;\n    }\n</style>\n<table border=\"1\" class=\"dataframe\">\n  <thead>\n    <tr style=\"text-align: right;\">\n      <th></th>\n      <th>id</th>\n      <th>tag</th>\n      <th>Path</th>\n      <th>url</th>\n      <th>video_path</th>\n    </tr>\n  </thead>\n  <tbody>\n    <tr>\n      <th>2688</th>\n      <td>1</td>\n      <td>豺</td>\n      <td>primary_supplement/chai/frames/00001-0001.jpg</td>\n      <td>https://aidata-1258344706.cos.ap-guangzhou.myq...</td>\n      <td>D:/primary_supplement/chai/videos/00001.AVI</td>\n    </tr>\n    <tr>\n      <th>2863</th>\n      <td>2</td>\n      <td>豺</td>\n      <td>primary_supplement/chai/frames/00001-0002.jpg</td>\n      <td>https://aidata-1258344706.cos.ap-guangzhou.myq...</td>\n      <td>D:/primary_supplement/chai/videos/00001.AVI</td>\n    </tr>\n    <tr>\n      <th>2866</th>\n      <td>3</td>\n      <td>豺</td>\n      <td>primary_supplement/chai/frames/00001-0003.jpg</td>\n      <td>https://aidata-1258344706.cos.ap-guangzhou.myq...</td>\n      <td>D:/primary_supplement/chai/videos/00001.AVI</td>\n    </tr>\n    <tr>\n      <th>2868</th>\n      <td>4</td>\n      <td>豺</td>\n      <td>primary_supplement/chai/frames/00001-0004.jpg</td>\n      <td>https://aidata-1258344706.cos.ap-guangzhou.myq...</td>\n      <td>D:/primary_supplement/chai/videos/00001.AVI</td>\n    </tr>\n    <tr>\n      <th>2870</th>\n      <td>5</td>\n      <td>豺</td>\n      <td>primary_supplement/chai/frames/00001-0005.jpg</td>\n      <td>https://aidata-1258344706.cos.ap-guangzhou.myq...</td>\n      <td>D:/primary_supplement/chai/videos/00001.AVI</td>\n    </tr>\n    <tr>\n      <th>...</th>\n      <td>...</td>\n      <td>...</td>\n      <td>...</td>\n      <td>...</td>\n      <td>...</td>\n    </tr>\n    <tr>\n      <th>1948</th>\n      <td>3243</td>\n      <td>棕熊</td>\n      <td>primary_supplement/zongxiong/frames/00006-0008...</td>\n      <td>https://aidata-1258344706.cos.ap-guangzhou.myq...</td>\n      <td>D:/primary_supplement/zongxiong/videos/00006.AVI</td>\n    </tr>\n    <tr>\n      <th>1950</th>\n      <td>3244</td>\n      <td>棕熊</td>\n      <td>primary_supplement/zongxiong/frames/00006-0009...</td>\n      <td>https://aidata-1258344706.cos.ap-guangzhou.myq...</td>\n      <td>D:/primary_supplement/zongxiong/videos/00006.AVI</td>\n    </tr>\n    <tr>\n      <th>1959</th>\n      <td>3245</td>\n      <td>棕熊</td>\n      <td>primary_supplement/zongxiong/frames/00006-0010...</td>\n      <td>https://aidata-1258344706.cos.ap-guangzhou.myq...</td>\n      <td>D:/primary_supplement/zongxiong/videos/00006.AVI</td>\n    </tr>\n    <tr>\n      <th>3237</th>\n      <td>3246</td>\n      <td>棕熊</td>\n      <td>primary_supplement/zongxiong/frames/00006-0011...</td>\n      <td>https://aidata-1258344706.cos.ap-guangzhou.myq...</td>\n      <td>D:/primary_supplement/zongxiong/videos/00006.AVI</td>\n    </tr>\n    <tr>\n      <th>3240</th>\n      <td>3247</td>\n      <td>棕熊</td>\n      <td>primary_supplement/zongxiong/frames/00006-0012...</td>\n      <td>https://aidata-1258344706.cos.ap-guangzhou.myq...</td>\n      <td>D:/primary_supplement/zongxiong/videos/00006.AVI</td>\n    </tr>\n  </tbody>\n</table>\n<p>3247 rows × 5 columns</p>\n</div>"
     },
     "metadata": {},
     "execution_count": 38
    }
   ],
   "source": [
    "df_store"
   ]
  },
  {
   "cell_type": "code",
   "execution_count": null,
   "metadata": {},
   "outputs": [],
   "source": []
  }
 ],
 "metadata": {
  "kernelspec": {
   "name": "python3",
   "display_name": "Python 3.8.5 64-bit ('yolo': conda)"
  },
  "language_info": {
   "codemirror_mode": {
    "name": "ipython",
    "version": 3
   },
   "file_extension": ".py",
   "mimetype": "text/x-python",
   "name": "python",
   "nbconvert_exporter": "python",
   "pygments_lexer": "ipython3",
   "version": "3.8.5"
  },
  "interpreter": {
   "hash": "723e5ad21b19632c9ba7d3fc1fb1a8721c49f470c3d0ec8cdece9f3481f15317"
  }
 },
 "nbformat": 4,
 "nbformat_minor": 5
}
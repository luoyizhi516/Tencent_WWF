{
 "cells": [
  {
   "cell_type": "code",
   "execution_count": 1,
   "metadata": {},
   "outputs": [],
   "source": [
    "import os\n",
    "base='D:/WWF\\data/top14-part4-raw'\n",
    "cp_base=base+'-novideo/'\n",
    "os.system('cp -r '+base +' '+cp_base)\n",
    "folder_list=os.listdir(cp_base)\n",
    "for i in folder_list:\n",
    "    video_folder=cp_base+i+'/videos/'\n",
    "    os.system('rm -rf '+video_folder)"
   ]
  },
  {
   "cell_type": "code",
   "execution_count": 2,
   "id": "8cdead5b",
   "metadata": {
    "ExecuteTime": {
     "end_time": "2021-06-08T11:52:51.951026Z",
     "start_time": "2021-06-08T11:52:51.944016Z"
    }
   },
   "outputs": [],
   "source": [
    "# -*- coding: UTF-8 -*-\n",
    "import os \n",
    "import pandas as pd\n",
    "import numpy as np \n"
   ]
  },
  {
   "cell_type": "code",
   "execution_count": 4,
   "metadata": {
    "tags": []
   },
   "outputs": [],
   "source": [
    "df=pd.read_csv(r\"D:/WWF_Det/WWF_Det\\Url_transform\\Raw_csv\\top14-part4.csv\")\n",
    "df=df.drop(['异常信息','数据集ID','数据集名称'], axis=1)\n",
    "df=df.reset_index().drop(['index'],axis=1)\n",
    "df_store=pd.DataFrame(columns=['id','tag','Path','url','video_path','video_url'])\n",
    "for index, row in df.iterrows():\n",
    "    eng_class=['baichunlu','chihu','zanghu','maoniu','ma','mashe','yang','yanyang','person','xuebao','malu','lanmaji','gaoyuanshanchun','gaoyuantu']\n",
    "    chi_class=['白唇鹿','赤狐','藏狐','牦牛','马','马麝','羊','岩羊','人','雪豹','马鹿','蓝马鸡','高原山鹑','高原兔']\n",
    "    file_dir=row['文件路径'].replace('top14-part4-raw-novideo','top14-part4-raw',1)\n",
    "    cate_name=row['文件路径'].split('/')[1]\n",
    "    video_dir=file_dir.replace('frames','videos',1)\n",
    "    file_path=file_dir+row['文件名称']\n",
    "    houzhui_list=['.MOV','.AVI','.MP4']\n",
    "    for i in houzhui_list:\n",
    "        check_path='D:/WWF/data/'+video_dir+row['文件名称'][:5]+i\n",
    "        if os.path.exists(check_path):\n",
    "            video_path=check_path.replace('D:/','',1)\n",
    "    for a,b in zip(eng_class,chi_class):\n",
    "        if cate_name==a: cate_name=b\n",
    "    df_store.loc[index,'tag']=cate_name\n",
    "    df_store.loc[index,'Path']=file_path\n",
    "    df_store.loc[index,'video_path']=video_path\n",
    "    df_store.loc[index,'url']=row['文件地址']\n",
    "\n",
    "df_store=df_store.sort_values(by=\"Path\" , ascending=True)\n",
    "df_store['id']=np.arange(1, len(df_store)+1)\n",
    "df_store['video_url']='None'\n",
    "df_store.to_csv(r'D:\\WWF_Det\\WWF_Det\\Url_transform\\Post_csv\\top14-part4.csv',index=False,encoding=\"utf_8_sig\")\n"
   ]
  },
  {
   "cell_type": "code",
   "execution_count": 19,
   "metadata": {},
   "outputs": [],
   "source": [
    "df_store=df_store.sort_values(by=\"Path\" , ascending=True)"
   ]
  },
  {
   "cell_type": "code",
   "execution_count": 5,
   "metadata": {},
   "outputs": [
    {
     "output_type": "execute_result",
     "data": {
      "text/plain": [
       "          id  tag                                             Path  \\\n",
       "4007       1  白唇鹿  top14-part4-raw/baichunlu/frames/00001-0001.jpg   \n",
       "4008       2  白唇鹿  top14-part4-raw/baichunlu/frames/00001-0002.jpg   \n",
       "4010       3  白唇鹿  top14-part4-raw/baichunlu/frames/00001-0003.jpg   \n",
       "4012       4  白唇鹿  top14-part4-raw/baichunlu/frames/00001-0004.jpg   \n",
       "4016       5  白唇鹿  top14-part4-raw/baichunlu/frames/00001-0005.jpg   \n",
       "...      ...  ...                                              ...   \n",
       "10009  10013   藏狐     top14-part4-raw/zanghu/frames/00100-0012.jpg   \n",
       "10013  10014   藏狐     top14-part4-raw/zanghu/frames/00100-0013.jpg   \n",
       "10016  10015   藏狐     top14-part4-raw/zanghu/frames/00100-0014.jpg   \n",
       "10008  10016   藏狐     top14-part4-raw/zanghu/frames/00100-0015.jpg   \n",
       "10007  10017   藏狐     top14-part4-raw/zanghu/frames/00100-0016.jpg   \n",
       "\n",
       "                                                     url  \\\n",
       "4007   https://aidata-1258344706.cos.ap-guangzhou.myq...   \n",
       "4008   https://aidata-1258344706.cos.ap-guangzhou.myq...   \n",
       "4010   https://aidata-1258344706.cos.ap-guangzhou.myq...   \n",
       "4012   https://aidata-1258344706.cos.ap-guangzhou.myq...   \n",
       "4016   https://aidata-1258344706.cos.ap-guangzhou.myq...   \n",
       "...                                                  ...   \n",
       "10009  https://aidata-1258344706.cos.ap-guangzhou.myq...   \n",
       "10013  https://aidata-1258344706.cos.ap-guangzhou.myq...   \n",
       "10016  https://aidata-1258344706.cos.ap-guangzhou.myq...   \n",
       "10008  https://aidata-1258344706.cos.ap-guangzhou.myq...   \n",
       "10007  https://aidata-1258344706.cos.ap-guangzhou.myq...   \n",
       "\n",
       "                                              video_path video_url  \n",
       "4007   WWF/data/top14-part4-raw/baichunlu/videos/0000...      None  \n",
       "4008   WWF/data/top14-part4-raw/baichunlu/videos/0000...      None  \n",
       "4010   WWF/data/top14-part4-raw/baichunlu/videos/0000...      None  \n",
       "4012   WWF/data/top14-part4-raw/baichunlu/videos/0000...      None  \n",
       "4016   WWF/data/top14-part4-raw/baichunlu/videos/0000...      None  \n",
       "...                                                  ...       ...  \n",
       "10009   WWF/data/top14-part4-raw/zanghu/videos/00100.MP4      None  \n",
       "10013   WWF/data/top14-part4-raw/zanghu/videos/00100.MP4      None  \n",
       "10016   WWF/data/top14-part4-raw/zanghu/videos/00100.MP4      None  \n",
       "10008   WWF/data/top14-part4-raw/zanghu/videos/00100.MP4      None  \n",
       "10007   WWF/data/top14-part4-raw/zanghu/videos/00100.MP4      None  \n",
       "\n",
       "[10017 rows x 6 columns]"
      ],
      "text/html": "<div>\n<style scoped>\n    .dataframe tbody tr th:only-of-type {\n        vertical-align: middle;\n    }\n\n    .dataframe tbody tr th {\n        vertical-align: top;\n    }\n\n    .dataframe thead th {\n        text-align: right;\n    }\n</style>\n<table border=\"1\" class=\"dataframe\">\n  <thead>\n    <tr style=\"text-align: right;\">\n      <th></th>\n      <th>id</th>\n      <th>tag</th>\n      <th>Path</th>\n      <th>url</th>\n      <th>video_path</th>\n      <th>video_url</th>\n    </tr>\n  </thead>\n  <tbody>\n    <tr>\n      <th>4007</th>\n      <td>1</td>\n      <td>白唇鹿</td>\n      <td>top14-part4-raw/baichunlu/frames/00001-0001.jpg</td>\n      <td>https://aidata-1258344706.cos.ap-guangzhou.myq...</td>\n      <td>WWF/data/top14-part4-raw/baichunlu/videos/0000...</td>\n      <td>None</td>\n    </tr>\n    <tr>\n      <th>4008</th>\n      <td>2</td>\n      <td>白唇鹿</td>\n      <td>top14-part4-raw/baichunlu/frames/00001-0002.jpg</td>\n      <td>https://aidata-1258344706.cos.ap-guangzhou.myq...</td>\n      <td>WWF/data/top14-part4-raw/baichunlu/videos/0000...</td>\n      <td>None</td>\n    </tr>\n    <tr>\n      <th>4010</th>\n      <td>3</td>\n      <td>白唇鹿</td>\n      <td>top14-part4-raw/baichunlu/frames/00001-0003.jpg</td>\n      <td>https://aidata-1258344706.cos.ap-guangzhou.myq...</td>\n      <td>WWF/data/top14-part4-raw/baichunlu/videos/0000...</td>\n      <td>None</td>\n    </tr>\n    <tr>\n      <th>4012</th>\n      <td>4</td>\n      <td>白唇鹿</td>\n      <td>top14-part4-raw/baichunlu/frames/00001-0004.jpg</td>\n      <td>https://aidata-1258344706.cos.ap-guangzhou.myq...</td>\n      <td>WWF/data/top14-part4-raw/baichunlu/videos/0000...</td>\n      <td>None</td>\n    </tr>\n    <tr>\n      <th>4016</th>\n      <td>5</td>\n      <td>白唇鹿</td>\n      <td>top14-part4-raw/baichunlu/frames/00001-0005.jpg</td>\n      <td>https://aidata-1258344706.cos.ap-guangzhou.myq...</td>\n      <td>WWF/data/top14-part4-raw/baichunlu/videos/0000...</td>\n      <td>None</td>\n    </tr>\n    <tr>\n      <th>...</th>\n      <td>...</td>\n      <td>...</td>\n      <td>...</td>\n      <td>...</td>\n      <td>...</td>\n      <td>...</td>\n    </tr>\n    <tr>\n      <th>10009</th>\n      <td>10013</td>\n      <td>藏狐</td>\n      <td>top14-part4-raw/zanghu/frames/00100-0012.jpg</td>\n      <td>https://aidata-1258344706.cos.ap-guangzhou.myq...</td>\n      <td>WWF/data/top14-part4-raw/zanghu/videos/00100.MP4</td>\n      <td>None</td>\n    </tr>\n    <tr>\n      <th>10013</th>\n      <td>10014</td>\n      <td>藏狐</td>\n      <td>top14-part4-raw/zanghu/frames/00100-0013.jpg</td>\n      <td>https://aidata-1258344706.cos.ap-guangzhou.myq...</td>\n      <td>WWF/data/top14-part4-raw/zanghu/videos/00100.MP4</td>\n      <td>None</td>\n    </tr>\n    <tr>\n      <th>10016</th>\n      <td>10015</td>\n      <td>藏狐</td>\n      <td>top14-part4-raw/zanghu/frames/00100-0014.jpg</td>\n      <td>https://aidata-1258344706.cos.ap-guangzhou.myq...</td>\n      <td>WWF/data/top14-part4-raw/zanghu/videos/00100.MP4</td>\n      <td>None</td>\n    </tr>\n    <tr>\n      <th>10008</th>\n      <td>10016</td>\n      <td>藏狐</td>\n      <td>top14-part4-raw/zanghu/frames/00100-0015.jpg</td>\n      <td>https://aidata-1258344706.cos.ap-guangzhou.myq...</td>\n      <td>WWF/data/top14-part4-raw/zanghu/videos/00100.MP4</td>\n      <td>None</td>\n    </tr>\n    <tr>\n      <th>10007</th>\n      <td>10017</td>\n      <td>藏狐</td>\n      <td>top14-part4-raw/zanghu/frames/00100-0016.jpg</td>\n      <td>https://aidata-1258344706.cos.ap-guangzhou.myq...</td>\n      <td>WWF/data/top14-part4-raw/zanghu/videos/00100.MP4</td>\n      <td>None</td>\n    </tr>\n  </tbody>\n</table>\n<p>10017 rows × 6 columns</p>\n</div>"
     },
     "metadata": {},
     "execution_count": 5
    }
   ],
   "source": [
    "df_store"
   ]
  },
  {
   "cell_type": "code",
   "execution_count": null,
   "metadata": {},
   "outputs": [],
   "source": []
  }
 ],
 "metadata": {
  "kernelspec": {
   "name": "python3",
   "display_name": "Python 3.8.5 64-bit ('yolo': conda)"
  },
  "language_info": {
   "codemirror_mode": {
    "name": "ipython",
    "version": 3
   },
   "file_extension": ".py",
   "mimetype": "text/x-python",
   "name": "python",
   "nbconvert_exporter": "python",
   "pygments_lexer": "ipython3",
   "version": "3.8.5"
  },
  "interpreter": {
   "hash": "723e5ad21b19632c9ba7d3fc1fb1a8721c49f470c3d0ec8cdece9f3481f15317"
  }
 },
 "nbformat": 4,
 "nbformat_minor": 5
}
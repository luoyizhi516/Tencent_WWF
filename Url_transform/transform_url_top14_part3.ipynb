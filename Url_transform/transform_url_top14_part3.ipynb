{
 "cells": [
  {
   "cell_type": "code",
   "execution_count": 131,
   "id": "877a6eb2",
   "metadata": {
    "ExecuteTime": {
     "end_time": "2021-06-09T02:16:58.863191Z",
     "start_time": "2021-06-09T02:16:58.859174Z"
    }
   },
   "outputs": [],
   "source": [
    "# -*- coding: UTF-8 -*-\n",
    "import pandas as pd\n",
    "import numpy as np\n",
    "import os\n"
   ]
  },
  {
   "cell_type": "code",
   "execution_count": 3,
   "metadata": {},
   "outputs": [],
   "source": [
    "import os\n",
    "base='D:/WWF\\data/top14-part3-raw'\n",
    "cp_base=base+'-novideo/'\n",
    "os.system('cp -r '+base +' '+cp_base)\n",
    "folder_list=os.listdir(cp_base)\n",
    "for i in folder_list:\n",
    "    video_folder=cp_base+i+'/videos/'\n",
    "    os.system('rm -rf '+video_folder)"
   ]
  },
  {
   "cell_type": "code",
   "execution_count": 4,
   "id": "8cdead5b",
   "metadata": {
    "ExecuteTime": {
     "end_time": "2021-06-08T11:52:51.951026Z",
     "start_time": "2021-06-08T11:52:51.944016Z"
    }
   },
   "outputs": [],
   "source": [
    "# -*- coding: UTF-8 -*-\n",
    "import os \n",
    "import pandas as pd\n",
    "import numpy as np \n"
   ]
  },
  {
   "cell_type": "code",
   "execution_count": 43,
   "metadata": {
    "tags": []
   },
   "outputs": [],
   "source": [
    "df=pd.read_csv('D:/WWF_Det\\WWF_Det\\Url_transform\\Raw_csv/top14-part3.csv')\n",
    "df=df.drop(['异常信息','数据集ID','数据集名称'], axis=1)\n",
    "df=df.reset_index().drop(['index'],axis=1)\n",
    "df_store=pd.DataFrame(columns=['id','tag','Path','url','video_path','video_url'])\n",
    "for index, row in df.iterrows():\n",
    "    eng_class=['baichunlu','chihu','zanghu','maoniu','ma','mashe','yang','yanyang','person','xuebao','malu','lanmaji','gaoyuanshanchun','gaoyuantu']\n",
    "    chi_class=['白唇鹿','赤狐','藏狐','牦牛','马','马麝','羊','岩羊','人','雪豹','马鹿','蓝马鸡','高原山鹑','高原兔']\n",
    "    file_dir=row['文件路径'].replace('top14-part3-raw-novideo','top14-part3-raw',1)\n",
    "    cate_name=row['文件路径'].split('/')[1]\n",
    "    video_dir=file_dir.replace('frames','videos',1)\n",
    "    file_path=file_dir+row['文件名称']\n",
    "    houzhui_list=['.MOV','.AVI','.MP4']\n",
    "    for i in houzhui_list:\n",
    "        check_path='D:/'+video_dir+row['文件名称'][:5]+i\n",
    "        if os.path.exists(check_path):\n",
    "            video_path=check_path.replace('D:/','',1)\n",
    "    for a,b in zip(eng_class,chi_class):\n",
    "        if cate_name==a: cate_name=b\n",
    "    df_store.loc[index,'tag']=cate_name\n",
    "    df_store.loc[index,'Path']=file_path\n",
    "    df_store.loc[index,'video_path']=video_path\n",
    "    df_store.loc[index,'url']=row['文件地址']\n",
    "\n",
    "df_store=df_store.sort_values(by=\"Path\" , ascending=True)\n",
    "df_store['id']=np.arange(1, len(df_store)+1)\n",
    "df_store['video_url']='None'\n",
    "df_store.to_csv('D:/WWF_Det\\WWF_Det\\Url_transform\\Post_csv/top14-part3.csv',index=False,encoding=\"utf_8_sig\")\n"
   ]
  },
  {
   "cell_type": "code",
   "execution_count": 19,
   "metadata": {},
   "outputs": [],
   "source": [
    "df_store=df_store.sort_values(by=\"Path\" , ascending=True)"
   ]
  },
  {
   "cell_type": "code",
   "execution_count": 38,
   "metadata": {},
   "outputs": [
    {
     "output_type": "execute_result",
     "data": {
      "text/plain": [
       "        id tag                                               Path  \\\n",
       "2688     1   豺      primary_supplement/chai/frames/00001-0001.jpg   \n",
       "2863     2   豺      primary_supplement/chai/frames/00001-0002.jpg   \n",
       "2866     3   豺      primary_supplement/chai/frames/00001-0003.jpg   \n",
       "2868     4   豺      primary_supplement/chai/frames/00001-0004.jpg   \n",
       "2870     5   豺      primary_supplement/chai/frames/00001-0005.jpg   \n",
       "...    ...  ..                                                ...   \n",
       "1948  3243  棕熊  primary_supplement/zongxiong/frames/00006-0008...   \n",
       "1950  3244  棕熊  primary_supplement/zongxiong/frames/00006-0009...   \n",
       "1959  3245  棕熊  primary_supplement/zongxiong/frames/00006-0010...   \n",
       "3237  3246  棕熊  primary_supplement/zongxiong/frames/00006-0011...   \n",
       "3240  3247  棕熊  primary_supplement/zongxiong/frames/00006-0012...   \n",
       "\n",
       "                                                    url  \\\n",
       "2688  https://aidata-1258344706.cos.ap-guangzhou.myq...   \n",
       "2863  https://aidata-1258344706.cos.ap-guangzhou.myq...   \n",
       "2866  https://aidata-1258344706.cos.ap-guangzhou.myq...   \n",
       "2868  https://aidata-1258344706.cos.ap-guangzhou.myq...   \n",
       "2870  https://aidata-1258344706.cos.ap-guangzhou.myq...   \n",
       "...                                                 ...   \n",
       "1948  https://aidata-1258344706.cos.ap-guangzhou.myq...   \n",
       "1950  https://aidata-1258344706.cos.ap-guangzhou.myq...   \n",
       "1959  https://aidata-1258344706.cos.ap-guangzhou.myq...   \n",
       "3237  https://aidata-1258344706.cos.ap-guangzhou.myq...   \n",
       "3240  https://aidata-1258344706.cos.ap-guangzhou.myq...   \n",
       "\n",
       "                                            video_path  \n",
       "2688       D:/primary_supplement/chai/videos/00001.AVI  \n",
       "2863       D:/primary_supplement/chai/videos/00001.AVI  \n",
       "2866       D:/primary_supplement/chai/videos/00001.AVI  \n",
       "2868       D:/primary_supplement/chai/videos/00001.AVI  \n",
       "2870       D:/primary_supplement/chai/videos/00001.AVI  \n",
       "...                                                ...  \n",
       "1948  D:/primary_supplement/zongxiong/videos/00006.AVI  \n",
       "1950  D:/primary_supplement/zongxiong/videos/00006.AVI  \n",
       "1959  D:/primary_supplement/zongxiong/videos/00006.AVI  \n",
       "3237  D:/primary_supplement/zongxiong/videos/00006.AVI  \n",
       "3240  D:/primary_supplement/zongxiong/videos/00006.AVI  \n",
       "\n",
       "[3247 rows x 5 columns]"
      ],
      "text/html": "<div>\n<style scoped>\n    .dataframe tbody tr th:only-of-type {\n        vertical-align: middle;\n    }\n\n    .dataframe tbody tr th {\n        vertical-align: top;\n    }\n\n    .dataframe thead th {\n        text-align: right;\n    }\n</style>\n<table border=\"1\" class=\"dataframe\">\n  <thead>\n    <tr style=\"text-align: right;\">\n      <th></th>\n      <th>id</th>\n      <th>tag</th>\n      <th>Path</th>\n      <th>url</th>\n      <th>video_path</th>\n    </tr>\n  </thead>\n  <tbody>\n    <tr>\n      <th>2688</th>\n      <td>1</td>\n      <td>豺</td>\n      <td>primary_supplement/chai/frames/00001-0001.jpg</td>\n      <td>https://aidata-1258344706.cos.ap-guangzhou.myq...</td>\n      <td>D:/primary_supplement/chai/videos/00001.AVI</td>\n    </tr>\n    <tr>\n      <th>2863</th>\n      <td>2</td>\n      <td>豺</td>\n      <td>primary_supplement/chai/frames/00001-0002.jpg</td>\n      <td>https://aidata-1258344706.cos.ap-guangzhou.myq...</td>\n      <td>D:/primary_supplement/chai/videos/00001.AVI</td>\n    </tr>\n    <tr>\n      <th>2866</th>\n      <td>3</td>\n      <td>豺</td>\n      <td>primary_supplement/chai/frames/00001-0003.jpg</td>\n      <td>https://aidata-1258344706.cos.ap-guangzhou.myq...</td>\n      <td>D:/primary_supplement/chai/videos/00001.AVI</td>\n    </tr>\n    <tr>\n      <th>2868</th>\n      <td>4</td>\n      <td>豺</td>\n      <td>primary_supplement/chai/frames/00001-0004.jpg</td>\n      <td>https://aidata-1258344706.cos.ap-guangzhou.myq...</td>\n      <td>D:/primary_supplement/chai/videos/00001.AVI</td>\n    </tr>\n    <tr>\n      <th>2870</th>\n      <td>5</td>\n      <td>豺</td>\n      <td>primary_supplement/chai/frames/00001-0005.jpg</td>\n      <td>https://aidata-1258344706.cos.ap-guangzhou.myq...</td>\n      <td>D:/primary_supplement/chai/videos/00001.AVI</td>\n    </tr>\n    <tr>\n      <th>...</th>\n      <td>...</td>\n      <td>...</td>\n      <td>...</td>\n      <td>...</td>\n      <td>...</td>\n    </tr>\n    <tr>\n      <th>1948</th>\n      <td>3243</td>\n      <td>棕熊</td>\n      <td>primary_supplement/zongxiong/frames/00006-0008...</td>\n      <td>https://aidata-1258344706.cos.ap-guangzhou.myq...</td>\n      <td>D:/primary_supplement/zongxiong/videos/00006.AVI</td>\n    </tr>\n    <tr>\n      <th>1950</th>\n      <td>3244</td>\n      <td>棕熊</td>\n      <td>primary_supplement/zongxiong/frames/00006-0009...</td>\n      <td>https://aidata-1258344706.cos.ap-guangzhou.myq...</td>\n      <td>D:/primary_supplement/zongxiong/videos/00006.AVI</td>\n    </tr>\n    <tr>\n      <th>1959</th>\n      <td>3245</td>\n      <td>棕熊</td>\n      <td>primary_supplement/zongxiong/frames/00006-0010...</td>\n      <td>https://aidata-1258344706.cos.ap-guangzhou.myq...</td>\n      <td>D:/primary_supplement/zongxiong/videos/00006.AVI</td>\n    </tr>\n    <tr>\n      <th>3237</th>\n      <td>3246</td>\n      <td>棕熊</td>\n      <td>primary_supplement/zongxiong/frames/00006-0011...</td>\n      <td>https://aidata-1258344706.cos.ap-guangzhou.myq...</td>\n      <td>D:/primary_supplement/zongxiong/videos/00006.AVI</td>\n    </tr>\n    <tr>\n      <th>3240</th>\n      <td>3247</td>\n      <td>棕熊</td>\n      <td>primary_supplement/zongxiong/frames/00006-0012...</td>\n      <td>https://aidata-1258344706.cos.ap-guangzhou.myq...</td>\n      <td>D:/primary_supplement/zongxiong/videos/00006.AVI</td>\n    </tr>\n  </tbody>\n</table>\n<p>3247 rows × 5 columns</p>\n</div>"
     },
     "metadata": {},
     "execution_count": 38
    }
   ],
   "source": [
    "df_store"
   ]
  },
  {
   "cell_type": "code",
   "execution_count": null,
   "metadata": {},
   "outputs": [],
   "source": []
  }
 ],
 "metadata": {
  "kernelspec": {
   "name": "python3",
   "display_name": "Python 3.8.5 64-bit ('yolo': conda)"
  },
  "language_info": {
   "codemirror_mode": {
    "name": "ipython",
    "version": 3
   },
   "file_extension": ".py",
   "mimetype": "text/x-python",
   "name": "python",
   "nbconvert_exporter": "python",
   "pygments_lexer": "ipython3",
   "version": "3.8.5"
  },
  "interpreter": {
   "hash": "723e5ad21b19632c9ba7d3fc1fb1a8721c49f470c3d0ec8cdece9f3481f15317"
  }
 },
 "nbformat": 4,
 "nbformat_minor": 5
}
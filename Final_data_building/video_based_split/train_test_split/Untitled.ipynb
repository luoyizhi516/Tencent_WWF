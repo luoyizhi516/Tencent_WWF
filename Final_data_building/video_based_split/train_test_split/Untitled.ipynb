{
 "cells": [
  {
   "cell_type": "code",
   "execution_count": null,
   "id": "bf096cee",
   "metadata": {
    "ExecuteTime": {
     "end_time": "2021-06-29T15:13:35.145034Z",
     "start_time": "2021-06-29T15:13:35.087516Z"
    }
   },
   "outputs": [],
   "source": [
    "# -*- coding: UTF-8 -*-\n",
    "from math import e\n",
    "import os\n",
    "from numpy.lib.type_check import _imag_dispatcher\n",
    "import pandas as pd\n",
    "import shutil\n",
    "import numpy as np\n",
    "import cv2\n",
    "import random\n",
    "from tqdm import tqdm\n",
    "import pyfastcopy\n",
    "import json,sklearn\n",
    "from sklearn.model_selection import train_test_split\n",
    "\n",
    "\n",
    "\n",
    "\n",
    "rawset_stat_path='D:/WWF_Det/WWF_Det/Raw_data_stat/top14-all/top14-all-pos.csv'\n",
    "df=pd.read_csv(rawset_stat_path)\n",
    "valued_df=df[~df.isnull().T.any()].drop(['video_path'], axis=1)\n",
    "cate_list=np.unique(valued_df['cate'].values)\n",
    "data_dict={'cate':cate_list,'infra_num':[],'rgb_num':[]}\n",
    "for cate in cate_list:\n",
    "    data_dict['rgb_num'].append(valued_df.loc[(valued_df['cate'] == cate)&(valued_df['modality'] == 'RGB')].shape[0])\n",
    "    data_dict['infra_num'].append(valued_df.loc[(valued_df['cate'] == cate)&(valued_df['modality'] == 'Infra')].shape[0])"
   ]
  },
  {
   "cell_type": "code",
   "execution_count": null,
   "id": "3a869395",
   "metadata": {
    "ExecuteTime": {
     "end_time": "2021-06-29T15:05:08.719922Z",
     "start_time": "2021-06-29T15:05:08.711969Z"
    }
   },
   "outputs": [],
   "source": [
    "valued_df"
   ]
  },
  {
   "cell_type": "code",
   "execution_count": null,
   "id": "a27666e5",
   "metadata": {
    "ExecuteTime": {
     "end_time": "2021-06-29T15:29:31.328513Z",
     "start_time": "2021-06-29T15:29:31.316535Z"
    }
   },
   "outputs": [],
   "source": [
    "data_dict['infra_test']=np.round((np.array(data_dict['infra_num'])/(np.array(data_dict['rgb_num'])+(np.array(data_dict['infra_num']))))*20)\n",
    "data_dict['rgb_test']=20-np.array(data_dict['infra_test'])\n",
    "new_df=pd.DataFrame(data_dict)\n",
    "new_df"
   ]
  },
  {
   "cell_type": "code",
   "execution_count": null,
   "id": "b6ffc937",
   "metadata": {
    "ExecuteTime": {
     "end_time": "2021-06-29T15:20:50.759228Z",
     "start_time": "2021-06-29T15:20:50.756227Z"
    }
   },
   "outputs": [],
   "source": []
  },
  {
   "cell_type": "code",
   "execution_count": null,
   "id": "142e9dcd",
   "metadata": {
    "ExecuteTime": {
     "end_time": "2021-06-29T15:20:53.100080Z",
     "start_time": "2021-06-29T15:20:53.093089Z"
    }
   },
   "outputs": [],
   "source": []
  },
  {
   "cell_type": "code",
   "execution_count": null,
   "id": "5fc98e5b",
   "metadata": {
    "ExecuteTime": {
     "end_time": "2021-06-29T14:31:16.936040Z",
     "start_time": "2021-06-29T14:31:16.934031Z"
    }
   },
   "outputs": [],
   "source": [
    "print(row_l)"
   ]
  },
  {
   "cell_type": "code",
   "execution_count": null,
   "id": "d496ac2e",
   "metadata": {},
   "outputs": [],
   "source": []
  }
 ],
 "metadata": {
  "kernelspec": {
   "display_name": "Python [conda env:yolo] *",
   "language": "python",
   "name": "conda-env-yolo-py"
  },
  "language_info": {
   "codemirror_mode": {
    "name": "ipython",
    "version": 3
   },
   "file_extension": ".py",
   "mimetype": "text/x-python",
   "name": "python",
   "nbconvert_exporter": "python",
   "pygments_lexer": "ipython3",
   "version": "3.8.5"
  }
 },
 "nbformat": 4,
 "nbformat_minor": 5
}
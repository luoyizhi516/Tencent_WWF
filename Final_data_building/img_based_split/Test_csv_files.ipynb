{
 "cells": [
  {
   "cell_type": "code",
   "execution_count": null,
   "id": "9b66a8f5",
   "metadata": {
    "ExecuteTime": {
     "end_time": "2021-06-10T08:09:06.062391Z",
     "start_time": "2021-06-10T08:09:04.332852Z"
    }
   },
   "outputs": [],
   "source": [
    "import os\n",
    "base='mid15-dataset-novideo/'\n",
    "folder_list=os.listdir(base)\n",
    "for i in folder_list:\n",
    "    video_folder=base+i+'/videos/'\n",
    "    os.system('rm -rf '+video_folder)"
   ]
  },
  {
   "cell_type": "code",
   "execution_count": null,
   "id": "13753017",
   "metadata": {
    "ExecuteTime": {
     "end_time": "2021-06-10T14:17:52.730198Z",
     "start_time": "2021-06-10T14:17:52.727206Z"
    }
   },
   "outputs": [],
   "source": [
    "import pandas as pd\n",
    "import os\n",
    "csv_file='C:/Users/luxiferchen/Desktop/物体检测标注-s8ju82_20210610220912153.csv'"
   ]
  },
  {
   "cell_type": "code",
   "execution_count": null,
   "id": "64683b1f",
   "metadata": {
    "ExecuteTime": {
     "end_time": "2021-06-10T14:18:06.792011Z",
     "start_time": "2021-06-10T14:18:06.687316Z"
    }
   },
   "outputs": [],
   "source": [
    "df=pd.read_csv(csv_file)\n",
    "display(df)"
   ]
  },
  {
   "cell_type": "code",
   "execution_count": null,
   "id": "26e06fca",
   "metadata": {
    "ExecuteTime": {
     "end_time": "2021-06-11T02:52:19.225184Z",
     "start_time": "2021-06-11T02:52:19.222185Z"
    }
   },
   "outputs": [],
   "source": [
    "cell=df.loc[0,'标注答案']\n",
    "my_dict=json.loads(cell)\n"
   ]
  },
  {
   "cell_type": "code",
   "execution_count": null,
   "id": "7001f3f1",
   "metadata": {
    "ExecuteTime": {
     "end_time": "2021-06-11T02:52:21.258050Z",
     "start_time": "2021-06-11T02:52:21.254070Z"
    }
   },
   "outputs": [],
   "source": [
    "my_dict"
   ]
  },
  {
   "cell_type": "code",
   "execution_count": null,
   "id": "20cc3e20",
   "metadata": {
    "ExecuteTime": {
     "end_time": "2021-06-11T02:54:02.817541Z",
     "start_time": "2021-06-11T02:54:02.814576Z"
    }
   },
   "outputs": [],
   "source": [
    "print(my_dict.keys())"
   ]
  },
  {
   "cell_type": "code",
   "execution_count": null,
   "id": "bc313da9",
   "metadata": {
    "ExecuteTime": {
     "end_time": "2021-06-11T02:55:46.497934Z",
     "start_time": "2021-06-11T02:55:46.494898Z"
    }
   },
   "outputs": [],
   "source": [
    "str(my_dict['objects'][0]['tags'][0]['value'])"
   ]
  },
  {
   "cell_type": "code",
   "execution_count": null,
   "id": "7c879dab",
   "metadata": {
    "ExecuteTime": {
     "end_time": "2021-06-10T14:41:36.004862Z",
     "start_time": "2021-06-10T14:41:36.000872Z"
    }
   },
   "outputs": [],
   "source": [
    "my_dict['tags']\n",
    "data_set='top14-dataset-part1/' "
   ]
  },
  {
   "cell_type": "code",
   "execution_count": null,
   "id": "a49da277",
   "metadata": {
    "ExecuteTime": {
     "end_time": "2021-06-11T01:53:41.177863Z",
     "start_time": "2021-06-11T01:52:50.393936Z"
    }
   },
   "outputs": [],
   "source": [
    "box_num=0\n",
    "cate_class=['baichunlu','chihu','gaoyuanshanchun','gaoyuantu','lanmaji','ma','malu','maoniu','mashe','person','xuebao','yang','yanyang','zanghu']\n",
    "for index, row in df.iterrows():\n",
    "    timu_data=json.loads(row['题目数据'])\n",
    "    file_path=data_set+timu_data['Path']\n",
    "    image_folder='top14-dataset-part1-transformed/images/'\n",
    "    text_folder='top14-dataset-part1-transformed/labels/'\n",
    "    if not os.path.exists(image_folder):\n",
    "        os.makedirs(image_folder, exist_ok = True)\n",
    "    if not os.path.exists(text_folder):\n",
    "        os.makedirs(text_folder, exist_ok = True)\n",
    "    assert os.path.exists(file_path)\n",
    "    \n",
    "    cate=timu_data['Path'].split('/')[0]\n",
    "    image_name=cate+timu_data['Path'].split('/')[2]\n",
    "    label_dict=json.loads(row['标注答案'])\n",
    "    if len(label_dict.keys()):\n",
    "        bboxes=label_dict['objects']\n",
    "        img = cv2.imread(file_path)\n",
    "        imgy,imgx=img.shape[:2]\n",
    "        with open(txt_path, 'w') as f:\n",
    "            for bbox in bboxes:\n",
    "                box_num+=1\n",
    "                center_x=((bbox['data'][0]['x']+bbox['data'][2]['x'])/2)/imgx\n",
    "                center_y=((bbox['data'][0]['y']+bbox['data'][2]['y'])/2)/imgy\n",
    "                w=abs(bbox['data'][2]['x']-bbox['data'][0]['x'])/imgx\n",
    "                h=abs(bbox['data'][2]['y']-bbox['data'][0]['y'])/imgy\n",
    "                txt_path=text_folder+os.path.splitext(image_name)[0]+'.txt'\n",
    "                \n",
    "                cate_id=cate_class.index(cate)+1\n",
    " \n",
    "                f.write(str(cate_id)+' '+str(center_x)+' '+str(center_y)+' '+str(w)+' '+str(h)+'\\n')\n",
    "   \n",
    "    \n",
    "    "
   ]
  },
  {
   "cell_type": "code",
   "execution_count": null,
   "id": "6a961956",
   "metadata": {
    "ExecuteTime": {
     "end_time": "2021-06-11T01:55:40.128942Z",
     "start_time": "2021-06-11T01:54:47.466525Z"
    }
   },
   "outputs": [],
   "source": [
    "    csv_file='C:/Users/luxiferchen/Desktop/物体检测标注-s8ju82_20210610220912153.csv'\n",
    "    df=pd.read_csv(csv_file)\n",
    "    data_set='top14-dataset-part1/'\n",
    "    box_num=0\n",
    "    cate_class=['baichunlu','chihu','gaoyuanshanchun','gaoyuantu','lanmaji','ma','malu','maoniu','mashe','person','xuebao','yang','yanyang','zanghu']\n",
    "    for index, row in df.iterrows():\n",
    "        timu_data=json.loads(row['题目数据'])\n",
    "        file_path=data_set+timu_data['Path']\n",
    "        image_folder='top14-dataset-part1-transformed/images/'\n",
    "        text_folder='top14-dataset-part1-transformed/labels/'\n",
    "        if not os.path.exists(image_folder): \n",
    "            os.makedirs(image_folder, exist_ok = True)\n",
    "        if not os.path.exists(text_folder): \n",
    "            os.makedirs(text_folder, exist_ok = True)\n",
    "        assert os.path.exists(file_path)\n",
    "        shutil.copyfile(file_path,image_folder+image_name)\n",
    "        cate=timu_data['Path'].split('/')[0]\n",
    "        image_name=cate+timu_data['Path'].split('/')[2]\n",
    "        label_dict=json.loads(row['标注答案'])\n",
    "        if len(label_dict.keys()):\n",
    "            bboxes=label_dict['objects']\n",
    "            img = cv2.imread(file_path)\n",
    "            imgy,imgx=img.shape[:2]\n",
    "            with open(txt_path, 'w') as f:\n",
    "                for bbox in bboxes:\n",
    "                    box_num+=1\n",
    "                    center_x=((bbox['data'][0]['x']+bbox['data'][2]['x'])/2)/imgx\n",
    "                    center_y=((bbox['data'][0]['y']+bbox['data'][2]['y'])/2)/imgy\n",
    "                    w=abs(bbox['data'][2]['x']-bbox['data'][0]['x'])/imgx\n",
    "                    h=abs(bbox['data'][2]['y']-bbox['data'][0]['y'])/imgy\n",
    "                    txt_path=text_folder+os.path.splitext(image_name)[0]+'.txt'\n",
    "                    \n",
    "                    cate_id=cate_class.index(cate)+1\n",
    "    \n",
    "                    f.write(str(cate_id)+' '+str(center_x)+' '+str(center_y)+' '+str(w)+' '+str(h)+'\\n')"
   ]
  },
  {
   "cell_type": "code",
   "execution_count": null,
   "metadata": {},
   "outputs": [],
   "source": [
    "import pylab\n",
    "import imageio\n",
    "import skimage\n",
    "import cv2\n",
    "import numpy as np\n",
    "#视频的绝对路径\n",
    "filename = r\"D:\\WWF_Det\\WWF_Data\\Raw_Data\\top14-all\\maoniu\\videos\\00511.MP4\"\n",
    "#可以选择解码工具\n",
    "vid = imageio.get_reader(filename,  'ffmpeg')\n",
    "for num,im in enumerate(vid):\n",
    "    #image的类型是mageio.core.util.Image可用下面这一注释行转换为arrary\n",
    "    \n",
    "    data = skimage.img_as_float(im)\n",
    "    data = data / data.max() #normalizes data in range 0 - 255\n",
    "    data = 255 * data\n",
    "    image = data.astype(np.uint8)\n",
    "    #image=cv2.cvtColor(image, cv2.COLOR_BGR2RGB)\n",
    "    print(image.dtype)\n",
    "    print(image.shape)\n",
    "    print(image.itemsize)\n",
    "    print(np.max(image.reshape(-1)))\n",
    "    b, g, r = cv2.split(image)\n",
    "    b,g,r=b.reshape(-1),g.reshape(-1),r.reshape(-1)\n",
    "    print(np.mean(b-g))\n",
    "    # modality='rgb'\n",
    "    # b,g,r=b.reshape(-1),g.reshape(-1),r.reshape(-1)\n",
    "    # if np.mean(b-g)<5:\n",
    "    #     print(np.mean(b-g))\n",
    "    #     modality=\"gray\"\n",
    "    # print(modality)\n",
    "    cv2.imshow('image', image)  \n",
    "    k=cv2.waitKey(0)   \n",
    "        \n",
    "    if k==27: \n",
    "        cv2.destroyAllWindows()\n",
    "        break\n",
    "cv2.destroyAllWindows()\n"
   ]
  },
  {
   "cell_type": "code",
   "execution_count": null,
   "metadata": {},
   "outputs": [],
   "source": []
  },
  {
   "cell_type": "code",
   "execution_count": null,
   "metadata": {},
   "outputs": [],
   "source": []
  }
 ],
 "metadata": {
  "kernelspec": {
   "name": "python3",
   "display_name": "Python 3.8.5 64-bit ('yolo': conda)"
  },
  "language_info": {
   "codemirror_mode": {
    "name": "ipython",
    "version": 3
   },
   "file_extension": ".py",
   "mimetype": "text/x-python",
   "name": "python",
   "nbconvert_exporter": "python",
   "pygments_lexer": "ipython3",
   "version": "3.8.5"
  },
  "interpreter": {
   "hash": "723e5ad21b19632c9ba7d3fc1fb1a8721c49f470c3d0ec8cdece9f3481f15317"
  }
 },
 "nbformat": 4,
 "nbformat_minor": 5
}
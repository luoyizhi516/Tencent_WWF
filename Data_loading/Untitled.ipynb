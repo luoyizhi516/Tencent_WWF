{
 "cells": [
  {
   "cell_type": "code",
   "execution_count": 3,
   "id": "9b66a8f5",
   "metadata": {
    "ExecuteTime": {
     "end_time": "2021-06-10T08:09:06.062391Z",
     "start_time": "2021-06-10T08:09:04.332852Z"
    }
   },
   "outputs": [],
   "source": [
    "import os\n",
    "base='mid15-dataset-novideo/'\n",
    "folder_list=os.listdir(base)\n",
    "for i in folder_list:\n",
    "    video_folder=base+i+'/videos/'\n",
    "    os.system('rm -rf '+video_folder)"
   ]
  },
  {
   "cell_type": "code",
   "execution_count": 6,
   "id": "13753017",
   "metadata": {
    "ExecuteTime": {
     "end_time": "2021-06-10T14:17:52.730198Z",
     "start_time": "2021-06-10T14:17:52.727206Z"
    }
   },
   "outputs": [],
   "source": [
    "import pandas as pd\n",
    "import os\n",
    "csv_file='C:/Users/luxiferchen/Desktop/物体检测标注-s8ju82_20210610220912153.csv'"
   ]
  },
  {
   "cell_type": "code",
   "execution_count": 8,
   "id": "64683b1f",
   "metadata": {
    "ExecuteTime": {
     "end_time": "2021-06-10T14:18:06.792011Z",
     "start_time": "2021-06-10T14:18:06.687316Z"
    }
   },
   "outputs": [
    {
     "data": {
      "text/html": [
       "<div>\n",
       "<style scoped>\n",
       "    .dataframe tbody tr th:only-of-type {\n",
       "        vertical-align: middle;\n",
       "    }\n",
       "\n",
       "    .dataframe tbody tr th {\n",
       "        vertical-align: top;\n",
       "    }\n",
       "\n",
       "    .dataframe thead th {\n",
       "        text-align: right;\n",
       "    }\n",
       "</style>\n",
       "<table border=\"1\" class=\"dataframe\">\n",
       "  <thead>\n",
       "    <tr style=\"text-align: right;\">\n",
       "      <th></th>\n",
       "      <th>任务编号</th>\n",
       "      <th>题目ID</th>\n",
       "      <th>题目数据</th>\n",
       "      <th>题目状态</th>\n",
       "      <th>标注人</th>\n",
       "      <th>标注时间</th>\n",
       "      <th>是否有效</th>\n",
       "      <th>无效原因</th>\n",
       "      <th>标注答案</th>\n",
       "    </tr>\n",
       "  </thead>\n",
       "  <tbody>\n",
       "    <tr>\n",
       "      <th>0</th>\n",
       "      <td>600008211189608448</td>\n",
       "      <td>599951167335161897</td>\n",
       "      <td>{\"id\": \"3473\", \"tag\": \"雪豹\", \"url\": \"https://ai...</td>\n",
       "      <td>验收通过</td>\n",
       "      <td></td>\n",
       "      <td>2021-06-10 16:37:55.0</td>\n",
       "      <td>是</td>\n",
       "      <td>NaN</td>\n",
       "      <td>{\"tags\":[],\"objects\":[{\"type\":\"image/rect\",\"da...</td>\n",
       "    </tr>\n",
       "    <tr>\n",
       "      <th>1</th>\n",
       "      <td>600008211189608448</td>\n",
       "      <td>599951167335161898</td>\n",
       "      <td>{\"id\": \"3474\", \"tag\": \"雪豹\", \"url\": \"https://ai...</td>\n",
       "      <td>验收通过</td>\n",
       "      <td>X</td>\n",
       "      <td>2021-06-10 16:37:44.0</td>\n",
       "      <td>是</td>\n",
       "      <td>NaN</td>\n",
       "      <td>{\"tags\":[],\"objects\":[{\"type\":\"image/rect\",\"da...</td>\n",
       "    </tr>\n",
       "    <tr>\n",
       "      <th>2</th>\n",
       "      <td>600008211189608448</td>\n",
       "      <td>599951167335161899</td>\n",
       "      <td>{\"id\": \"3475\", \"tag\": \"雪豹\", \"url\": \"https://ai...</td>\n",
       "      <td>验收通过</td>\n",
       "      <td></td>\n",
       "      <td>2021-06-10 16:37:34.0</td>\n",
       "      <td>是</td>\n",
       "      <td>NaN</td>\n",
       "      <td>{\"tags\":[],\"objects\":[{\"type\":\"image/rect\",\"da...</td>\n",
       "    </tr>\n",
       "    <tr>\n",
       "      <th>3</th>\n",
       "      <td>600008211189608448</td>\n",
       "      <td>599951167335161900</td>\n",
       "      <td>{\"id\": \"3476\", \"tag\": \"雪豹\", \"url\": \"https://ai...</td>\n",
       "      <td>验收通过</td>\n",
       "      <td>X</td>\n",
       "      <td>2021-06-10 16:37:29.0</td>\n",
       "      <td>是</td>\n",
       "      <td>NaN</td>\n",
       "      <td>{\"tags\":[],\"objects\":[{\"type\":\"image/rect\",\"da...</td>\n",
       "    </tr>\n",
       "    <tr>\n",
       "      <th>4</th>\n",
       "      <td>600008211189608448</td>\n",
       "      <td>599951167335161901</td>\n",
       "      <td>{\"id\": \"3477\", \"tag\": \"雪豹\", \"url\": \"https://ai...</td>\n",
       "      <td>验收通过</td>\n",
       "      <td>X</td>\n",
       "      <td>2021-06-10 16:37:12.0</td>\n",
       "      <td>是</td>\n",
       "      <td>NaN</td>\n",
       "      <td>{\"tags\":[],\"objects\":[{\"type\":\"image/rect\",\"da...</td>\n",
       "    </tr>\n",
       "    <tr>\n",
       "      <th>...</th>\n",
       "      <td>...</td>\n",
       "      <td>...</td>\n",
       "      <td>...</td>\n",
       "      <td>...</td>\n",
       "      <td>...</td>\n",
       "      <td>...</td>\n",
       "      <td>...</td>\n",
       "      <td>...</td>\n",
       "      <td>...</td>\n",
       "    </tr>\n",
       "    <tr>\n",
       "      <th>3466</th>\n",
       "      <td>600008211189608448</td>\n",
       "      <td>599951167620374560</td>\n",
       "      <td>{\"id\": \"6939\", \"tag\": \"高原山鹑\", \"url\": \"https://...</td>\n",
       "      <td>通过质检</td>\n",
       "      <td>一场游戏  一场梦</td>\n",
       "      <td>2021-06-09 15:49:40.0</td>\n",
       "      <td>是</td>\n",
       "      <td>NaN</td>\n",
       "      <td>{\"tags\":[],\"objects\":[{\"type\":\"image/rect\",\"da...</td>\n",
       "    </tr>\n",
       "    <tr>\n",
       "      <th>3467</th>\n",
       "      <td>600008211189608448</td>\n",
       "      <td>599951167620374561</td>\n",
       "      <td>{\"id\": \"6940\", \"tag\": \"高原山鹑\", \"url\": \"https://...</td>\n",
       "      <td>通过质检</td>\n",
       "      <td>X</td>\n",
       "      <td>2021-06-10 10:45:13.0</td>\n",
       "      <td>是</td>\n",
       "      <td>NaN</td>\n",
       "      <td>{\"tags\":[],\"objects\":[{\"type\":\"image/rect\",\"da...</td>\n",
       "    </tr>\n",
       "    <tr>\n",
       "      <th>3468</th>\n",
       "      <td>600008211189608448</td>\n",
       "      <td>599951167620374562</td>\n",
       "      <td>{\"id\": \"6941\", \"tag\": \"高原山鹑\", \"url\": \"https://...</td>\n",
       "      <td>通过质检</td>\n",
       "      <td>Vivian Yang</td>\n",
       "      <td>2021-06-09 15:33:01.0</td>\n",
       "      <td>是</td>\n",
       "      <td>NaN</td>\n",
       "      <td>{\"tags\":[],\"objects\":[{\"type\":\"image/rect\",\"da...</td>\n",
       "    </tr>\n",
       "    <tr>\n",
       "      <th>3469</th>\n",
       "      <td>600008211189608448</td>\n",
       "      <td>599951167620374563</td>\n",
       "      <td>{\"id\": \"6942\", \"tag\": \"高原山鹑\", \"url\": \"https://...</td>\n",
       "      <td>通过质检</td>\n",
       "      <td>🍁 飘飘</td>\n",
       "      <td>2021-06-09 17:04:47.0</td>\n",
       "      <td>是</td>\n",
       "      <td>NaN</td>\n",
       "      <td>{\"tags\":[],\"objects\":[{\"type\":\"image/rect\",\"da...</td>\n",
       "    </tr>\n",
       "    <tr>\n",
       "      <th>3470</th>\n",
       "      <td>600008211189608448</td>\n",
       "      <td>599951167620374564</td>\n",
       "      <td>{\"id\": \"6943\", \"tag\": \"高原山鹑\", \"url\": \"https://...</td>\n",
       "      <td>通过质检</td>\n",
       "      <td>8倍镜</td>\n",
       "      <td>2021-06-09 15:50:34.0</td>\n",
       "      <td>是</td>\n",
       "      <td>NaN</td>\n",
       "      <td>{\"tags\":[],\"objects\":[{\"type\":\"image/rect\",\"da...</td>\n",
       "    </tr>\n",
       "  </tbody>\n",
       "</table>\n",
       "<p>3471 rows × 9 columns</p>\n",
       "</div>"
      ],
      "text/plain": [
       "                    任务编号                题目ID  \\\n",
       "0     600008211189608448  599951167335161897   \n",
       "1     600008211189608448  599951167335161898   \n",
       "2     600008211189608448  599951167335161899   \n",
       "3     600008211189608448  599951167335161900   \n",
       "4     600008211189608448  599951167335161901   \n",
       "...                  ...                 ...   \n",
       "3466  600008211189608448  599951167620374560   \n",
       "3467  600008211189608448  599951167620374561   \n",
       "3468  600008211189608448  599951167620374562   \n",
       "3469  600008211189608448  599951167620374563   \n",
       "3470  600008211189608448  599951167620374564   \n",
       "\n",
       "                                                   题目数据  题目状态          标注人  \\\n",
       "0     {\"id\": \"3473\", \"tag\": \"雪豹\", \"url\": \"https://ai...  验收通过               \n",
       "1     {\"id\": \"3474\", \"tag\": \"雪豹\", \"url\": \"https://ai...  验收通过            X   \n",
       "2     {\"id\": \"3475\", \"tag\": \"雪豹\", \"url\": \"https://ai...  验收通过               \n",
       "3     {\"id\": \"3476\", \"tag\": \"雪豹\", \"url\": \"https://ai...  验收通过            X   \n",
       "4     {\"id\": \"3477\", \"tag\": \"雪豹\", \"url\": \"https://ai...  验收通过            X   \n",
       "...                                                 ...   ...          ...   \n",
       "3466  {\"id\": \"6939\", \"tag\": \"高原山鹑\", \"url\": \"https://...  通过质检    一场游戏  一场梦   \n",
       "3467  {\"id\": \"6940\", \"tag\": \"高原山鹑\", \"url\": \"https://...  通过质检            X   \n",
       "3468  {\"id\": \"6941\", \"tag\": \"高原山鹑\", \"url\": \"https://...  通过质检  Vivian Yang   \n",
       "3469  {\"id\": \"6942\", \"tag\": \"高原山鹑\", \"url\": \"https://...  通过质检         🍁 飘飘   \n",
       "3470  {\"id\": \"6943\", \"tag\": \"高原山鹑\", \"url\": \"https://...  通过质检          8倍镜   \n",
       "\n",
       "                       标注时间 是否有效 无效原因  \\\n",
       "0     2021-06-10 16:37:55.0    是  NaN   \n",
       "1     2021-06-10 16:37:44.0    是  NaN   \n",
       "2     2021-06-10 16:37:34.0    是  NaN   \n",
       "3     2021-06-10 16:37:29.0    是  NaN   \n",
       "4     2021-06-10 16:37:12.0    是  NaN   \n",
       "...                     ...  ...  ...   \n",
       "3466  2021-06-09 15:49:40.0    是  NaN   \n",
       "3467  2021-06-10 10:45:13.0    是  NaN   \n",
       "3468  2021-06-09 15:33:01.0    是  NaN   \n",
       "3469  2021-06-09 17:04:47.0    是  NaN   \n",
       "3470  2021-06-09 15:50:34.0    是  NaN   \n",
       "\n",
       "                                                   标注答案  \n",
       "0     {\"tags\":[],\"objects\":[{\"type\":\"image/rect\",\"da...  \n",
       "1     {\"tags\":[],\"objects\":[{\"type\":\"image/rect\",\"da...  \n",
       "2     {\"tags\":[],\"objects\":[{\"type\":\"image/rect\",\"da...  \n",
       "3     {\"tags\":[],\"objects\":[{\"type\":\"image/rect\",\"da...  \n",
       "4     {\"tags\":[],\"objects\":[{\"type\":\"image/rect\",\"da...  \n",
       "...                                                 ...  \n",
       "3466  {\"tags\":[],\"objects\":[{\"type\":\"image/rect\",\"da...  \n",
       "3467  {\"tags\":[],\"objects\":[{\"type\":\"image/rect\",\"da...  \n",
       "3468  {\"tags\":[],\"objects\":[{\"type\":\"image/rect\",\"da...  \n",
       "3469  {\"tags\":[],\"objects\":[{\"type\":\"image/rect\",\"da...  \n",
       "3470  {\"tags\":[],\"objects\":[{\"type\":\"image/rect\",\"da...  \n",
       "\n",
       "[3471 rows x 9 columns]"
      ]
     },
     "metadata": {},
     "output_type": "display_data"
    }
   ],
   "source": [
    "df=pd.read_csv(csv_file)\n",
    "display(df)"
   ]
  },
  {
   "cell_type": "code",
   "execution_count": 101,
   "id": "26e06fca",
   "metadata": {
    "ExecuteTime": {
     "end_time": "2021-06-11T02:52:19.225184Z",
     "start_time": "2021-06-11T02:52:19.222185Z"
    }
   },
   "outputs": [],
   "source": [
    "cell=df.loc[0,'标注答案']\n",
    "my_dict=json.loads(cell)\n"
   ]
  },
  {
   "cell_type": "code",
   "execution_count": 102,
   "id": "7001f3f1",
   "metadata": {
    "ExecuteTime": {
     "end_time": "2021-06-11T02:52:21.258050Z",
     "start_time": "2021-06-11T02:52:21.254070Z"
    }
   },
   "outputs": [
    {
     "data": {
      "text/plain": [
       "{'tags': [],\n",
       " 'objects': [{'type': 'image/rect',\n",
       "   'data': [{'x': 779.84, 'y': 451.73},\n",
       "    {'x': 1438.79, 'y': 451.73},\n",
       "    {'x': 1438.79, 'y': 1080.45},\n",
       "    {'x': 779.84, 'y': 1080.45}],\n",
       "   'tags': [{'name': '物体检测试标',\n",
       "     'label': '多选',\n",
       "     'value': ['RGB图片', '目标类别物体出现比例-全部出现']}],\n",
       "   'featureId': 'feature-DBXMWfHx',\n",
       "   'color': '#2D8CF0',\n",
       "   'name': 'RGB图片'}]}"
      ]
     },
     "execution_count": 102,
     "metadata": {},
     "output_type": "execute_result"
    }
   ],
   "source": [
    "my_dict"
   ]
  },
  {
   "cell_type": "code",
   "execution_count": 106,
   "id": "20cc3e20",
   "metadata": {
    "ExecuteTime": {
     "end_time": "2021-06-11T02:54:02.817541Z",
     "start_time": "2021-06-11T02:54:02.814576Z"
    }
   },
   "outputs": [
    {
     "name": "stdout",
     "output_type": "stream",
     "text": [
      "dict_keys(['tags', 'objects'])\n"
     ]
    }
   ],
   "source": [
    "print(my_dict.keys())"
   ]
  },
  {
   "cell_type": "code",
   "execution_count": 115,
   "id": "bc313da9",
   "metadata": {
    "ExecuteTime": {
     "end_time": "2021-06-11T02:55:46.497934Z",
     "start_time": "2021-06-11T02:55:46.494898Z"
    }
   },
   "outputs": [
    {
     "data": {
      "text/plain": [
       "\"['RGB图片', '目标类别物体出现比例-全部出现']\""
      ]
     },
     "execution_count": 115,
     "metadata": {},
     "output_type": "execute_result"
    }
   ],
   "source": [
    "str(my_dict['objects'][0]['tags'][0]['value'])"
   ]
  },
  {
   "cell_type": "code",
   "execution_count": 36,
   "id": "7c879dab",
   "metadata": {
    "ExecuteTime": {
     "end_time": "2021-06-10T14:41:36.004862Z",
     "start_time": "2021-06-10T14:41:36.000872Z"
    }
   },
   "outputs": [],
   "source": [
    "my_dict['tags']\n",
    "data_set='top14-dataset-part1/' "
   ]
  },
  {
   "cell_type": "code",
   "execution_count": 94,
   "id": "a49da277",
   "metadata": {
    "ExecuteTime": {
     "end_time": "2021-06-11T01:53:41.177863Z",
     "start_time": "2021-06-11T01:52:50.393936Z"
    }
   },
   "outputs": [],
   "source": [
    "box_num=0\n",
    "cate_class=['baichunlu','chihu','gaoyuanshanchun','gaoyuantu','lanmaji','ma','malu','maoniu','mashe','person','xuebao','yang','yanyang','zanghu']\n",
    "for index, row in df.iterrows():\n",
    "    timu_data=json.loads(row['题目数据'])\n",
    "    file_path=data_set+timu_data['Path']\n",
    "    image_folder='top14-dataset-part1-transformed/images/'\n",
    "    text_folder='top14-dataset-part1-transformed/labels/'\n",
    "    if not os.path.exists(image_folder):\n",
    "        os.makedirs(image_folder, exist_ok = True)\n",
    "    if not os.path.exists(text_folder):\n",
    "        os.makedirs(text_folder, exist_ok = True)\n",
    "    assert os.path.exists(file_path)\n",
    "    \n",
    "    cate=timu_data['Path'].split('/')[0]\n",
    "    image_name=cate+timu_data['Path'].split('/')[2]\n",
    "    label_dict=json.loads(row['标注答案'])\n",
    "    if len(label_dict.keys()):\n",
    "        bboxes=label_dict['objects']\n",
    "        img = cv2.imread(file_path)\n",
    "        imgy,imgx=img.shape[:2]\n",
    "        with open(txt_path, 'w') as f:\n",
    "            for bbox in bboxes:\n",
    "                box_num+=1\n",
    "                center_x=((bbox['data'][0]['x']+bbox['data'][2]['x'])/2)/imgx\n",
    "                center_y=((bbox['data'][0]['y']+bbox['data'][2]['y'])/2)/imgy\n",
    "                w=abs(bbox['data'][2]['x']-bbox['data'][0]['x'])/imgx\n",
    "                h=abs(bbox['data'][2]['y']-bbox['data'][0]['y'])/imgy\n",
    "                txt_path=text_folder+os.path.splitext(image_name)[0]+'.txt'\n",
    "                \n",
    "                cate_id=cate_class.index(cate)+1\n",
    " \n",
    "                f.write(str(cate_id)+' '+str(center_x)+' '+str(center_y)+' '+str(w)+' '+str(h)+'\\n')\n",
    "   \n",
    "    \n",
    "    "
   ]
  },
  {
   "cell_type": "code",
   "execution_count": 77,
   "id": "c0a904fa",
   "metadata": {
    "ExecuteTime": {
     "end_time": "2021-06-10T16:45:42.736889Z",
     "start_time": "2021-06-10T16:45:42.733897Z"
    }
   },
   "outputs": [],
   "source": [
    "import cv2"
   ]
  },
  {
   "cell_type": "code",
   "execution_count": 67,
   "id": "a695cc95",
   "metadata": {
    "ExecuteTime": {
     "end_time": "2021-06-10T15:29:22.143560Z",
     "start_time": "2021-06-10T15:29:22.139570Z"
    }
   },
   "outputs": [
    {
     "data": {
      "text/plain": [
       "4257"
      ]
     },
     "execution_count": 67,
     "metadata": {},
     "output_type": "execute_result"
    }
   ],
   "source": [
    "box_num"
   ]
  },
  {
   "cell_type": "code",
   "execution_count": 97,
   "id": "6a961956",
   "metadata": {
    "ExecuteTime": {
     "end_time": "2021-06-11T01:55:40.128942Z",
     "start_time": "2021-06-11T01:54:47.466525Z"
    }
   },
   "outputs": [],
   "source": [
    "    csv_file='C:/Users/luxiferchen/Desktop/物体检测标注-s8ju82_20210610220912153.csv'\n",
    "    df=pd.read_csv(csv_file)\n",
    "    data_set='top14-dataset-part1/'\n",
    "    box_num=0\n",
    "    cate_class=['baichunlu','chihu','gaoyuanshanchun','gaoyuantu','lanmaji','ma','malu','maoniu','mashe','person','xuebao','yang','yanyang','zanghu']\n",
    "    for index, row in df.iterrows():\n",
    "        timu_data=json.loads(row['题目数据'])\n",
    "        file_path=data_set+timu_data['Path']\n",
    "        image_folder='top14-dataset-part1-transformed/images/'\n",
    "        text_folder='top14-dataset-part1-transformed/labels/'\n",
    "        if not os.path.exists(image_folder): \n",
    "            os.makedirs(image_folder, exist_ok = True)\n",
    "        if not os.path.exists(text_folder): \n",
    "            os.makedirs(text_folder, exist_ok = True)\n",
    "        assert os.path.exists(file_path)\n",
    "        shutil.copyfile(file_path,image_folder+image_name)\n",
    "        cate=timu_data['Path'].split('/')[0]\n",
    "        image_name=cate+timu_data['Path'].split('/')[2]\n",
    "        label_dict=json.loads(row['标注答案'])\n",
    "        if len(label_dict.keys()):\n",
    "            bboxes=label_dict['objects']\n",
    "            img = cv2.imread(file_path)\n",
    "            imgy,imgx=img.shape[:2]\n",
    "            with open(txt_path, 'w') as f:\n",
    "                for bbox in bboxes:\n",
    "                    box_num+=1\n",
    "                    center_x=((bbox['data'][0]['x']+bbox['data'][2]['x'])/2)/imgx\n",
    "                    center_y=((bbox['data'][0]['y']+bbox['data'][2]['y'])/2)/imgy\n",
    "                    w=abs(bbox['data'][2]['x']-bbox['data'][0]['x'])/imgx\n",
    "                    h=abs(bbox['data'][2]['y']-bbox['data'][0]['y'])/imgy\n",
    "                    txt_path=text_folder+os.path.splitext(image_name)[0]+'.txt'\n",
    "                    \n",
    "                    cate_id=cate_class.index(cate)+1\n",
    "    \n",
    "                    f.write(str(cate_id)+' '+str(center_x)+' '+str(center_y)+' '+str(w)+' '+str(h)+'\\n')"
   ]
  },
  {
   "cell_type": "code",
   "execution_count": 96,
   "id": "22963116",
   "metadata": {
    "ExecuteTime": {
     "end_time": "2021-06-11T01:54:45.780400Z",
     "start_time": "2021-06-11T01:54:45.778376Z"
    }
   },
   "outputs": [],
   "source": [
    "import shutil"
   ]
  },
  {
   "cell_type": "code",
   "execution_count": null,
   "id": "10c7bd7a",
   "metadata": {},
   "outputs": [],
   "source": []
  }
 ],
 "metadata": {
  "kernelspec": {
   "display_name": "Python [conda env:yolo] *",
   "language": "python",
   "name": "conda-env-yolo-py"
  },
  "language_info": {
   "codemirror_mode": {
    "name": "ipython",
    "version": 3
   },
   "file_extension": ".py",
   "mimetype": "text/x-python",
   "name": "python",
   "nbconvert_exporter": "python",
   "pygments_lexer": "ipython3",
   "version": "3.8.5"
  }
 },
 "nbformat": 4,
 "nbformat_minor": 5
}
